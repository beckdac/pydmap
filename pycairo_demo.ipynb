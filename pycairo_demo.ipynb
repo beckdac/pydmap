{
 "cells": [
  {
   "cell_type": "code",
   "execution_count": 1,
   "metadata": {},
   "outputs": [],
   "source": [
    "from io import BytesIO\n",
    "import math\n",
    "import random\n",
    "\n",
    "import cairo\n",
    "import IPython.display\n",
    "import numpy as np"
   ]
  },
  {
   "cell_type": "code",
   "execution_count": 2,
   "metadata": {},
   "outputs": [],
   "source": [
    "# adapted from https://lists.cairographics.org/archives/cairo/2010-April/019691.html\n",
    "def helper_quadratic_to_old(ctx, x1, y1, x2, y2):\n",
    "    x0, y0 = ctx.get_current_point()\n",
    "    ctx.curve_to(2.0 / 3.0 * x1 + 1.0 / 3.0 * x0,\n",
    "                 2.0 / 3.0 * y1 + 1.0 / 3.0 * y0,\n",
    "                 2.0 / 3.0 * x1 + 1.0 / 3.0 * x2,\n",
    "                 2.0 / 3.0 * y1 + 1.0 / 3.0 * y2,\n",
    "                 y1, y2);"
   ]
  },
  {
   "cell_type": "code",
   "execution_count": 3,
   "metadata": {},
   "outputs": [],
   "source": [
    "def helper_quadratic_to(ctx, x1, y1, x2, y2):\n",
    "    x0, y0 = ctx.get_current_point()\n",
    "    \n",
    "    c1x = (x0 + 2.*x1) / 3.\n",
    "    c1y = (y0 + 2.*y1) / 3.\n",
    "    c2x = (x2 + 2.*x1) / 3.\n",
    "    c2y = (y2 + 2.*y1) / 3.\n",
    "    \n",
    "    ctx.curve_to(c1x, c1y, c2x, c2y, x2, y2)"
   ]
  },
  {
   "cell_type": "code",
   "execution_count": 4,
   "metadata": {},
   "outputs": [],
   "source": [
    "def display_image(render_func, xsize, ysize):\n",
    "    svgio = BytesIO()\n",
    "    with cairo.SVGSurface(svgio, xsize, ysize) as surface:\n",
    "        context = cairo.Context(surface)\n",
    "        render_func(context)\n",
    "    return svgio"
   ]
  },
  {
   "cell_type": "code",
   "execution_count": 5,
   "metadata": {},
   "outputs": [],
   "source": [
    "def draw_demo_image(context):\n",
    "    # These lines are copied verbatim from the\n",
    "    # pycairo page: https://pycairo.readthedocs.io\n",
    "    x, y, x1, y1 = 0.1, 0.5, 0.4, 0.9\n",
    "    x2, y2, x3, y3 = 0.6, 0.1, 0.9, 0.5\n",
    "    context.scale(200, 200)\n",
    "    context.set_line_width(0.04)\n",
    "    context.move_to(x, y)\n",
    "    context.curve_to(x1, y1, x2, y2, x3, y3)\n",
    "    context.stroke()\n",
    "    context.set_source_rgba(1, 0.2, 0.2, 0.6)\n",
    "    context.set_line_width(0.02)\n",
    "    context.move_to(x, y)\n",
    "    context.line_to(x1, y1)\n",
    "    context.move_to(x2, y2)\n",
    "    context.line_to(x3, y3)\n",
    "    context.stroke()\n",
    "    # end of pycairo copy"
   ]
  },
  {
   "cell_type": "code",
   "execution_count": 6,
   "metadata": {},
   "outputs": [
    {
     "data": {
      "image/svg+xml": [
       "<svg xmlns=\"http://www.w3.org/2000/svg\" xmlns:xlink=\"http://www.w3.org/1999/xlink\" width=\"200pt\" height=\"200pt\" viewBox=\"0 0 200 200\" version=\"1.1\">\n",
       "<g id=\"surface1\">\n",
       "<path style=\"fill:none;stroke-width:0.04;stroke-linecap:butt;stroke-linejoin:miter;stroke:rgb(0%,0%,0%);stroke-opacity:1;stroke-miterlimit:10;\" d=\"M 0.1 0.5 C 0.4 0.9 0.6 0.1 0.9 0.5 \" transform=\"matrix(200,0,0,200,0,0)\"/>\n",
       "<path style=\"fill:none;stroke-width:0.02;stroke-linecap:butt;stroke-linejoin:miter;stroke:rgb(100%,20%,20%);stroke-opacity:0.6;stroke-miterlimit:10;\" d=\"M 0.1 0.5 L 0.4 0.9 M 0.6 0.1 L 0.9 0.5 \" transform=\"matrix(200,0,0,200,0,0)\"/>\n",
       "</g>\n",
       "</svg>"
      ],
      "text/plain": [
       "<IPython.core.display.SVG object>"
      ]
     },
     "execution_count": 6,
     "metadata": {},
     "output_type": "execute_result"
    }
   ],
   "source": [
    "IPython.display.SVG(data=display_image(draw_demo_image, 200, 200).getvalue())"
   ]
  },
  {
   "cell_type": "code",
   "execution_count": 7,
   "metadata": {},
   "outputs": [],
   "source": [
    "# adapted from https://github.com/RyanMarcus/humanLines/blob/master/index.js"
   ]
  },
  {
   "cell_type": "code",
   "execution_count": 8,
   "metadata": {},
   "outputs": [],
   "source": [
    "def time_to_point(sx, sy, fx, fy, t):\n",
    "    # scale the time value, which should be between 0 and 2, to 0 and 1\n",
    "    tau = t / 2.0;\n",
    "    poly_term = 15. * math.pow(tau, 4.) \\\n",
    "              - 6. * math.pow(tau, 5.) \\\n",
    "              - 10. * math.pow(tau, 3.);\n",
    "    \n",
    "    return {\"x\": sx + (sx - fx) * poly_term,\n",
    "            \"y\": sy + (sy - fy) * poly_term };"
   ]
  },
  {
   "cell_type": "code",
   "execution_count": 80,
   "metadata": {},
   "outputs": [],
   "source": [
    "def get_squiggle(prev, current, strength=10., seed=None):\n",
    "    # find the midpoint\n",
    "    midpoint = {\"x\": (prev[\"x\"] + current[\"x\"]) / 2., \\\n",
    "                      \"y\": (prev[\"y\"] + current[\"y\"]) / 2.};\n",
    "\n",
    "    # displace by a random value between -5 and 5\n",
    "    # the paper calls to do this w.r.t. the normal of the line\n",
    "    # but we'll just do it on the circle.\n",
    "    if seed is not None:\n",
    "        random.seed(seed)\n",
    "    def rng():\n",
    "        return random.random()\n",
    "    \n",
    "    range_adjust = strength / 2.\n",
    "    displacementX = rng() * strength - range_adjust;\n",
    "    displacementY = rng() * strength - range_adjust;\n",
    "    \n",
    "    midpoint[\"x\"] += displacementX;\n",
    "    midpoint[\"y\"] += displacementY;\n",
    "    \n",
    "    #print(f\"{midpoint['x']}, {midpoint['y']}\")\n",
    "\n",
    "    return midpoint;"
   ]
  },
  {
   "cell_type": "code",
   "execution_count": 83,
   "metadata": {},
   "outputs": [],
   "source": [
    "def draw_natural_line(ctx, sx, sy, fx, fy, squiggle_strength=10., seed=None, print_points=False):\n",
    "    \n",
    "    dist = math.sqrt(math.pow(sx - fx, 2) + math.pow(sy - fy, 2));\n",
    "    if dist < 200:\n",
    "        dt = 0.5\n",
    "    elif dist < 400:\n",
    "        dt = 0.3\n",
    "    else:\n",
    "        dt = 0.2\n",
    "\n",
    "    last_point = {\"x\": sx, \"y\": sy};\n",
    "    ctx.set_source_rgba(0.7, 0.7, 0.7, 0.7)\n",
    "    ctx.new_path()\n",
    "    ctx.move_to(last_point[\"x\"], last_point[\"y\"])\n",
    "    \n",
    "    #print(f\"last.x = {last_point['x']}, last.y = {last_point['y']}\")\n",
    "    for t in np.linspace(0, 2., int(2. / dt) + 1):\n",
    "        current_point = time_to_point(sx, sy, fx, fy, t);\n",
    "        squiggle_control_point = get_squiggle(last_point, current_point, strength=squiggle_strength, seed=seed);\n",
    "        #print(f\"current.x = {current_point['x']}, current.y = {current_point['y']}\")\n",
    "        #ctx.line_to(current_point[\"x\"], current_point[\"y\"])\n",
    "        helper_quadratic_to(ctx, squiggle_control_point[\"x\"], squiggle_control_point[\"y\"], current_point[\"x\"], current_point[\"y\"]);\n",
    "\n",
    "        if print_points:\n",
    "            print(f\"current.x = {current_point['x']}, current.y = {current_point['y']}\")\n",
    "            print(f\"squiggle.x = {squiggle_control_point['x']}, squiggle.y = {squiggle_control_point['y']}\")\n",
    "            \n",
    "        last_point = current_point;\n",
    "\n",
    "    ctx.stroke()"
   ]
  },
  {
   "cell_type": "code",
   "execution_count": 84,
   "metadata": {},
   "outputs": [],
   "source": [
    "def draw_natural_rect(ctx, x, y, w, h, squiggle_strength=10., seed=None, print_points=False):\n",
    "    draw_natural_line(ctx, x,     y    , x + w, y    , squiggle_strength=squiggle_strength, seed=seed, print_points=print_points)\n",
    "    draw_natural_line(ctx, x + w, y    , x + w, y + h, squiggle_strength=squiggle_strength, seed=seed, print_points=print_points)\n",
    "    draw_natural_line(ctx, x + w, y + h, x    , y + h, squiggle_strength=squiggle_strength, seed=seed, print_points=print_points)\n",
    "    draw_natural_line(ctx, x    , y + h, x    , y    , squiggle_strength=squiggle_strength, seed=seed, print_points=print_points)"
   ]
  },
  {
   "cell_type": "code",
   "execution_count": 126,
   "metadata": {},
   "outputs": [],
   "source": [
    "def demo_natural_line(ctx):\n",
    "    a = 10\n",
    "    w = 100\n",
    "    ws = w * .9\n",
    "    ctx.translate(520, 0);\n",
    "    ctx.scale(-1, 1)\n",
    "    print_points = False\n",
    "    random.seed()\n",
    "    draw_natural_rect(ctx, a, a, ws, ws, squiggle_strength=10, print_points=print_points);\n",
    "    draw_natural_rect(ctx, a + w, a, ws, ws, squiggle_strength=7, print_points=print_points);\n",
    "    draw_natural_rect(ctx, a + 2*w, a, ws, ws, squiggle_strength=5, print_points=print_points);\n",
    "    draw_natural_rect(ctx, a + 3*w, a, ws, ws, squiggle_strength=2, print_points=print_points);\n",
    "    draw_natural_rect(ctx, a + 4*w, a, ws, ws, squiggle_strength=1, print_points=print_points);\n",
    "    #draw_natural_rect(ctx, a + w/3, a + w/9, w, w, squiggle_strength=5, print_points=print_points);\n",
    "\n",
    "    #draw_natural_rect(ctx, a, a, a + w/3, a + w/3, squiggle_strength=5, print_points=print_points);\n",
    "    #draw_natural_rect(ctx, a, a + w, a + w/3, a + w/3 + w, squiggle_strength=15, print_points=print_points);\n",
    "    #draw_natural_rect(ctx, a + w, a, a + w/3 + w, a + w/3, squiggle_strength=20, print_points=print_points);\n",
    "    #draw_natural_rect(ctx, a + w, a + w, a + w/3 + w, a + w/3 + w, squiggle_strength=25, print_points=print_points);"
   ]
  },
  {
   "cell_type": "code",
   "execution_count": 130,
   "metadata": {},
   "outputs": [
    {
     "data": {
      "image/svg+xml": [
       "<svg xmlns=\"http://www.w3.org/2000/svg\" xmlns:xlink=\"http://www.w3.org/1999/xlink\" width=\"600pt\" height=\"105pt\" viewBox=\"0 0 600 105\" version=\"1.1\">\n",
       "<g id=\"surface157\">\n",
       "<path style=\"fill:none;stroke-width:2;stroke-linecap:butt;stroke-linejoin:miter;stroke:rgb(70%,70%,70%);stroke-opacity:0.7;stroke-miterlimit:10;\" d=\"M 10 10 C 7.035156 7.371094 7.035156 7.371094 10 10 C 14.386719 11.011719 17.492188 11.011719 19.316406 10 C 32.984375 9.074219 44.878906 9.074219 55 10 C 65.160156 8.90625 77.054688 8.90625 90.683594 10 C 91.949219 7.351562 95.054688 7.351562 100 10 \" transform=\"matrix(-1,0,0,1,520,0)\"/>\n",
       "<path style=\"fill:none;stroke-width:2;stroke-linecap:butt;stroke-linejoin:miter;stroke:rgb(70%,70%,70%);stroke-opacity:0.7;stroke-miterlimit:10;\" d=\"M 100 10 C 101.621094 10.410156 101.621094 10.410156 100 10 C 99.519531 14.085938 99.519531 17.191406 100 19.316406 C 96.894531 33.523438 96.894531 45.417969 100 55 C 98.53125 64.222656 98.53125 76.117188 100 90.683594 C 103.285156 96.617188 103.285156 99.722656 100 100 \" transform=\"matrix(-1,0,0,1,520,0)\"/>\n",
       "<path style=\"fill:none;stroke-width:2;stroke-linecap:butt;stroke-linejoin:miter;stroke:rgb(70%,70%,70%);stroke-opacity:0.7;stroke-miterlimit:10;\" d=\"M 100 100 C 100.199219 97.5625 100.199219 97.5625 100 100 C 94.746094 96.9375 91.640625 96.9375 90.683594 100 C 78.460938 97.058594 66.566406 97.058594 55 100 C 41.4375 97.972656 29.542969 97.972656 19.316406 100 C 18.078125 100.929688 14.972656 100.929688 10 100 \" transform=\"matrix(-1,0,0,1,520,0)\"/>\n",
       "<path style=\"fill:none;stroke-width:2;stroke-linecap:butt;stroke-linejoin:miter;stroke:rgb(70%,70%,70%);stroke-opacity:0.7;stroke-miterlimit:10;\" d=\"M 10 100 C 8.921875 99.433594 8.921875 99.433594 10 100 C 13.140625 98.15625 13.140625 95.050781 10 90.683594 C 8.457031 79.21875 8.457031 67.324219 10 55 C 13.082031 40.558594 13.082031 28.664062 10 19.316406 C 8.375 17.652344 8.375 14.546875 10 10 \" transform=\"matrix(-1,0,0,1,520,0)\"/>\n",
       "<path style=\"fill:none;stroke-width:2;stroke-linecap:butt;stroke-linejoin:miter;stroke:rgb(70%,70%,70%);stroke-opacity:0.7;stroke-miterlimit:10;\" d=\"M 110 10 C 112.296875 11.503906 112.296875 11.503906 110 10 C 114.945312 11.640625 118.050781 11.640625 119.316406 10 C 129.171875 11.46875 141.066406 11.46875 155 10 C 168.382812 11.296875 180.277344 11.296875 190.683594 10 C 192.246094 7.96875 195.351562 7.96875 200 10 \" transform=\"matrix(-1,0,0,1,520,0)\"/>\n",
       "<path style=\"fill:none;stroke-width:2;stroke-linecap:butt;stroke-linejoin:miter;stroke:rgb(70%,70%,70%);stroke-opacity:0.7;stroke-miterlimit:10;\" d=\"M 200 10 C 201.925781 7.878906 201.925781 7.878906 200 10 C 198.042969 11.722656 198.042969 14.828125 200 19.316406 C 197.976562 32.46875 197.976562 44.363281 200 55 C 197.921875 68.84375 197.921875 80.738281 200 90.683594 C 199.128906 91.878906 199.128906 94.984375 200 100 \" transform=\"matrix(-1,0,0,1,520,0)\"/>\n",
       "<path style=\"fill:none;stroke-width:2;stroke-linecap:butt;stroke-linejoin:miter;stroke:rgb(70%,70%,70%);stroke-opacity:0.7;stroke-miterlimit:10;\" d=\"M 200 100 C 200.316406 100.078125 200.316406 100.078125 200 100 C 197.546875 99.382812 194.441406 99.382812 190.683594 100 C 177.578125 99.949219 165.683594 99.949219 155 100 C 143.636719 98.332031 131.742188 98.332031 119.316406 100 C 118.089844 101.496094 114.984375 101.496094 110 100 \" transform=\"matrix(-1,0,0,1,520,0)\"/>\n",
       "<path style=\"fill:none;stroke-width:2;stroke-linecap:butt;stroke-linejoin:miter;stroke:rgb(70%,70%,70%);stroke-opacity:0.7;stroke-miterlimit:10;\" d=\"M 110 100 C 110.742188 98.8125 110.742188 98.8125 110 100 C 108.300781 96.277344 108.300781 93.171875 110 90.683594 C 108.8125 78.574219 108.8125 66.679688 110 55 C 111.847656 43.691406 111.847656 31.796875 110 19.316406 C 108.027344 17.660156 108.027344 14.554688 110 10 \" transform=\"matrix(-1,0,0,1,520,0)\"/>\n",
       "<path style=\"fill:none;stroke-width:2;stroke-linecap:butt;stroke-linejoin:miter;stroke:rgb(70%,70%,70%);stroke-opacity:0.7;stroke-miterlimit:10;\" d=\"M 210 10 C 210.382812 9.09375 210.382812 9.09375 210 10 C 213.367188 8.441406 216.472656 8.441406 219.316406 10 C 229.714844 8.601562 241.609375 8.601562 255 10 C 266.417969 10.664062 278.3125 10.664062 290.683594 10 C 293.300781 10.636719 296.40625 10.636719 300 10 \" transform=\"matrix(-1,0,0,1,520,0)\"/>\n",
       "<path style=\"fill:none;stroke-width:2;stroke-linecap:butt;stroke-linejoin:miter;stroke:rgb(70%,70%,70%);stroke-opacity:0.7;stroke-miterlimit:10;\" d=\"M 300 10 C 301.503906 8.503906 301.503906 8.503906 300 10 C 298.441406 12.347656 298.441406 15.453125 300 19.316406 C 300.742188 32.222656 300.742188 44.117188 300 55 C 301.652344 67.53125 301.652344 79.425781 300 90.683594 C 298.746094 93.847656 298.746094 96.953125 300 100 \" transform=\"matrix(-1,0,0,1,520,0)\"/>\n",
       "<path style=\"fill:none;stroke-width:2;stroke-linecap:butt;stroke-linejoin:miter;stroke:rgb(70%,70%,70%);stroke-opacity:0.7;stroke-miterlimit:10;\" d=\"M 300 100 C 301.042969 100.78125 301.042969 100.78125 300 100 C 298.078125 99.90625 294.972656 99.90625 290.683594 100 C 278.226562 98.476562 266.332031 98.476562 255 100 C 241.484375 100.707031 229.589844 100.707031 219.316406 100 C 217.695312 100.472656 214.589844 100.472656 210 100 \" transform=\"matrix(-1,0,0,1,520,0)\"/>\n",
       "<path style=\"fill:none;stroke-width:2;stroke-linecap:butt;stroke-linejoin:miter;stroke:rgb(70%,70%,70%);stroke-opacity:0.7;stroke-miterlimit:10;\" d=\"M 210 100 C 211.328125 101.304688 211.328125 101.304688 210 100 C 208.625 95.78125 208.625 92.675781 210 90.683594 C 209.359375 79.050781 209.359375 67.15625 210 55 C 209.847656 44.570312 209.847656 32.675781 210 19.316406 C 208.726562 17.433594 208.726562 14.328125 210 10 \" transform=\"matrix(-1,0,0,1,520,0)\"/>\n",
       "<path style=\"fill:none;stroke-width:2;stroke-linecap:butt;stroke-linejoin:miter;stroke:rgb(70%,70%,70%);stroke-opacity:0.7;stroke-miterlimit:10;\" d=\"M 310 10 C 310.4375 10.148438 310.4375 10.148438 310 10 C 312.609375 10.597656 315.714844 10.597656 319.316406 10 C 331.285156 9.871094 343.179688 9.871094 355 10 C 367.296875 10.226562 379.191406 10.226562 390.683594 10 C 394.304688 9.355469 397.410156 9.355469 400 10 \" transform=\"matrix(-1,0,0,1,520,0)\"/>\n",
       "<path style=\"fill:none;stroke-width:2;stroke-linecap:butt;stroke-linejoin:miter;stroke:rgb(70%,70%,70%);stroke-opacity:0.7;stroke-miterlimit:10;\" d=\"M 400 10 C 400.292969 9.867188 400.292969 9.867188 400 10 C 399.53125 13.382812 399.53125 16.488281 400 19.316406 C 400.207031 31.515625 400.207031 43.410156 400 55 C 399.574219 66.890625 399.574219 78.785156 400 90.683594 C 399.667969 93.945312 399.667969 97.050781 400 100 \" transform=\"matrix(-1,0,0,1,520,0)\"/>\n",
       "<path style=\"fill:none;stroke-width:2;stroke-linecap:butt;stroke-linejoin:miter;stroke:rgb(70%,70%,70%);stroke-opacity:0.7;stroke-miterlimit:10;\" d=\"M 400 100 C 399.460938 99.554688 399.460938 99.554688 400 100 C 397.414062 100.375 394.308594 100.375 390.683594 100 C 378.894531 99.785156 367 99.785156 355 100 C 343.4375 100.175781 331.542969 100.175781 319.316406 100 C 316.011719 99.625 312.90625 99.625 310 100 \" transform=\"matrix(-1,0,0,1,520,0)\"/>\n",
       "<path style=\"fill:none;stroke-width:2;stroke-linecap:butt;stroke-linejoin:miter;stroke:rgb(70%,70%,70%);stroke-opacity:0.7;stroke-miterlimit:10;\" d=\"M 310 100 C 309.867188 99.425781 309.867188 99.425781 310 100 C 310.511719 97.460938 310.511719 94.355469 310 90.683594 C 310.207031 78.132812 310.207031 66.238281 310 55 C 309.898438 42.8125 309.898438 30.917969 310 19.316406 C 310.484375 16.621094 310.484375 13.515625 310 10 \" transform=\"matrix(-1,0,0,1,520,0)\"/>\n",
       "<path style=\"fill:none;stroke-width:2;stroke-linecap:butt;stroke-linejoin:miter;stroke:rgb(70%,70%,70%);stroke-opacity:0.7;stroke-miterlimit:10;\" d=\"M 410 10 C 409.953125 9.941406 409.953125 9.941406 410 10 C 413.058594 9.863281 416.164062 9.863281 419.316406 10 C 431.496094 10.011719 443.390625 10.011719 455 10 C 466.5625 10.167969 478.457031 10.167969 490.683594 10 C 493.609375 9.964844 496.714844 9.964844 500 10 \" transform=\"matrix(-1,0,0,1,520,0)\"/>\n",
       "<path style=\"fill:none;stroke-width:2;stroke-linecap:butt;stroke-linejoin:miter;stroke:rgb(70%,70%,70%);stroke-opacity:0.7;stroke-miterlimit:10;\" d=\"M 500 10 C 499.945312 9.789062 499.945312 9.789062 500 10 C 499.972656 12.972656 499.972656 16.078125 500 19.316406 C 499.800781 31.03125 499.800781 42.925781 500 55 C 499.785156 66.570312 499.785156 78.464844 500 90.683594 C 500.222656 94.050781 500.222656 97.15625 500 100 \" transform=\"matrix(-1,0,0,1,520,0)\"/>\n",
       "<path style=\"fill:none;stroke-width:2;stroke-linecap:butt;stroke-linejoin:miter;stroke:rgb(70%,70%,70%);stroke-opacity:0.7;stroke-miterlimit:10;\" d=\"M 500 100 C 500.273438 100.054688 500.273438 100.054688 500 100 C 497.09375 100.023438 493.988281 100.023438 490.683594 100 C 478.660156 99.824219 466.765625 99.824219 455 100 C 443.015625 100.171875 431.121094 100.171875 419.316406 100 C 415.949219 100.304688 412.84375 100.304688 410 100 \" transform=\"matrix(-1,0,0,1,520,0)\"/>\n",
       "<path style=\"fill:none;stroke-width:2;stroke-linecap:butt;stroke-linejoin:miter;stroke:rgb(70%,70%,70%);stroke-opacity:0.7;stroke-miterlimit:10;\" d=\"M 410 100 C 410.238281 99.832031 410.238281 99.832031 410 100 C 410.007812 96.683594 410.007812 93.578125 410 90.683594 C 410.132812 78.726562 410.132812 66.832031 410 55 C 409.972656 43.390625 409.972656 31.496094 410 19.316406 C 409.675781 16.117188 409.675781 13.011719 410 10 \" transform=\"matrix(-1,0,0,1,520,0)\"/>\n",
       "</g>\n",
       "</svg>"
      ],
      "text/plain": [
       "<IPython.core.display.SVG object>"
      ]
     },
     "execution_count": 130,
     "metadata": {},
     "output_type": "execute_result"
    }
   ],
   "source": [
    "IPython.display.SVG(data=display_image(demo_natural_line, 600, 105).getvalue())"
   ]
  },
  {
   "cell_type": "code",
   "execution_count": null,
   "metadata": {},
   "outputs": [],
   "source": []
  },
  {
   "cell_type": "code",
   "execution_count": null,
   "metadata": {},
   "outputs": [],
   "source": []
  }
 ],
 "metadata": {
  "kernelspec": {
   "display_name": "Python 3",
   "language": "python",
   "name": "python3"
  },
  "language_info": {
   "codemirror_mode": {
    "name": "ipython",
    "version": 3
   },
   "file_extension": ".py",
   "mimetype": "text/x-python",
   "name": "python",
   "nbconvert_exporter": "python",
   "pygments_lexer": "ipython3",
   "version": "3.8.1"
  }
 },
 "nbformat": 4,
 "nbformat_minor": 4
}
