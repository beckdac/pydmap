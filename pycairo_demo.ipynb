{
 "cells": [
  {
   "cell_type": "code",
   "execution_count": 17,
   "metadata": {},
   "outputs": [],
   "source": [
    "from io import BytesIO\n",
    "\n",
    "import cairo\n",
    "import IPython.display"
   ]
  },
  {
   "cell_type": "code",
   "execution_count": 18,
   "metadata": {},
   "outputs": [],
   "source": [
    "# adapted from https://lists.cairographics.org/archives/cairo/2010-April/019691.html\n",
    "def helper_quadratic_to(ctx, x1, y1, x2, y2):\n",
    "    x0, y0 = ctx.get_current_point()\n",
    "    ctx.curve_to(2.0 / 3.0 * x1 + 1.0 / 3.0 * x0,\n",
    "                 2.0 / 3.0 * y1 + 1.0 / 3.0 * y0,\n",
    "                 2.0 / 3.0 * x1 + 1.0 / 3.0 * x2,\n",
    "                 2.0 / 3.0 * y1 + 1.0 / 3.0 * y2,\n",
    "                 y1, y2);"
   ]
  },
  {
   "cell_type": "code",
   "execution_count": 19,
   "metadata": {},
   "outputs": [],
   "source": [
    "def display_image(render_func, xsize, ysize):\n",
    "    svgio = BytesIO()\n",
    "    with cairo.SVGSurface(svgio, xsize, ysize) as surface:\n",
    "        context = cairo.Context(surface)\n",
    "        render_func(context)\n",
    "    return svgio"
   ]
  },
  {
   "cell_type": "code",
   "execution_count": 22,
   "metadata": {},
   "outputs": [],
   "source": [
    "def draw_demo_image(context):\n",
    "    # These lines are copied verbatim from the\n",
    "    # pycairo page: https://pycairo.readthedocs.io\n",
    "    x, y, x1, y1 = 0.1, 0.5, 0.4, 0.9\n",
    "    x2, y2, x3, y3 = 0.6, 0.1, 0.9, 0.5\n",
    "    context.scale(200, 200)\n",
    "    context.set_line_width(0.04)\n",
    "    context.move_to(x, y)\n",
    "    context.curve_to(x1, y1, x2, y2, x3, y3)\n",
    "    context.stroke()\n",
    "    context.set_source_rgba(1, 0.2, 0.2, 0.6)\n",
    "    context.set_line_width(0.02)\n",
    "    context.move_to(x, y)\n",
    "    context.line_to(x1, y1)\n",
    "    context.move_to(x2, y2)\n",
    "    context.line_to(x3, y3)\n",
    "    context.stroke()\n",
    "    # end of pycairo copy"
   ]
  },
  {
   "cell_type": "code",
   "execution_count": 24,
   "metadata": {},
   "outputs": [
    {
     "ename": "TypeError",
     "evalue": "draw_demo_image() takes 1 positional argument but 3 were given",
     "output_type": "error",
     "traceback": [
      "\u001b[0;31m---------------------------------------------------------------------------\u001b[0m",
      "\u001b[0;31mTypeError\u001b[0m                                 Traceback (most recent call last)",
      "\u001b[0;32m<ipython-input-24-838bc5834e7d>\u001b[0m in \u001b[0;36m<module>\u001b[0;34m\u001b[0m\n\u001b[0;32m----> 1\u001b[0;31m \u001b[0mIPython\u001b[0m\u001b[0;34m.\u001b[0m\u001b[0mdisplay\u001b[0m\u001b[0;34m.\u001b[0m\u001b[0mSVG\u001b[0m\u001b[0;34m(\u001b[0m\u001b[0mdata\u001b[0m\u001b[0;34m=\u001b[0m\u001b[0mdraw_demo_image\u001b[0m\u001b[0;34m(\u001b[0m\u001b[0mdraw_figure\u001b[0m\u001b[0;34m,\u001b[0m \u001b[0;36m200\u001b[0m\u001b[0;34m,\u001b[0m \u001b[0;36m200\u001b[0m\u001b[0;34m)\u001b[0m\u001b[0;34m.\u001b[0m\u001b[0mgetvalue\u001b[0m\u001b[0;34m(\u001b[0m\u001b[0;34m)\u001b[0m\u001b[0;34m)\u001b[0m\u001b[0;34m\u001b[0m\u001b[0;34m\u001b[0m\u001b[0m\n\u001b[0m",
      "\u001b[0;31mTypeError\u001b[0m: draw_demo_image() takes 1 positional argument but 3 were given"
     ]
    }
   ],
   "source": [
    "IPython.display.SVG(data=draw_demo_image(draw_figure, 200, 200).getvalue())"
   ]
  },
  {
   "cell_type": "code",
   "execution_count": null,
   "metadata": {},
   "outputs": [],
   "source": []
  }
 ],
 "metadata": {
  "kernelspec": {
   "display_name": "Python 3",
   "language": "python",
   "name": "python3"
  },
  "language_info": {
   "codemirror_mode": {
    "name": "ipython",
    "version": 3
   },
   "file_extension": ".py",
   "mimetype": "text/x-python",
   "name": "python",
   "nbconvert_exporter": "python",
   "pygments_lexer": "ipython3",
   "version": "3.8.1"
  }
 },
 "nbformat": 4,
 "nbformat_minor": 4
}
