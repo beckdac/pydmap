{
 "cells": [
  {
   "cell_type": "code",
   "execution_count": 1,
   "metadata": {},
   "outputs": [],
   "source": [
    "from io import BytesIO\n",
    "import math\n",
    "import random\n",
    "\n",
    "import cairo\n",
    "import IPython.display\n",
    "import numpy as np"
   ]
  },
  {
   "cell_type": "code",
   "execution_count": 2,
   "metadata": {},
   "outputs": [],
   "source": [
    "# adapted from https://lists.cairographics.org/archives/cairo/2010-April/019691.html\n",
    "def helper_quadratic_to_old(ctx, x1, y1, x2, y2):\n",
    "    x0, y0 = ctx.get_current_point()\n",
    "    ctx.curve_to(2.0 / 3.0 * x1 + 1.0 / 3.0 * x0,\n",
    "                 2.0 / 3.0 * y1 + 1.0 / 3.0 * y0,\n",
    "                 2.0 / 3.0 * x1 + 1.0 / 3.0 * x2,\n",
    "                 2.0 / 3.0 * y1 + 1.0 / 3.0 * y2,\n",
    "                 y1, y2);"
   ]
  },
  {
   "cell_type": "code",
   "execution_count": 3,
   "metadata": {},
   "outputs": [],
   "source": [
    "def helper_quadratic_to(ctx, x1, y1, x2, y2):\n",
    "    x0, y0 = ctx.get_current_point()\n",
    "    \n",
    "    c1x = (x0 + 2.*x1) / 3.\n",
    "    c1y = (y0 + 2.*y1) / 3.\n",
    "    c2x = (x2 + 2.*x1) / 3.\n",
    "    c2y = (y2 + 2.*y1) / 3.\n",
    "    \n",
    "    ctx.curve_to(c1x, c1y, c2x, c2y, x2, y2)"
   ]
  },
  {
   "cell_type": "code",
   "execution_count": 4,
   "metadata": {},
   "outputs": [],
   "source": [
    "def display_image(render_func, xsize, ysize):\n",
    "    svgio = BytesIO()\n",
    "    with cairo.SVGSurface(svgio, xsize, ysize) as surface:\n",
    "        context = cairo.Context(surface)\n",
    "        render_func(context)\n",
    "    return svgio"
   ]
  },
  {
   "cell_type": "code",
   "execution_count": 5,
   "metadata": {},
   "outputs": [],
   "source": [
    "def draw_demo_image(context):\n",
    "    # These lines are copied verbatim from the\n",
    "    # pycairo page: https://pycairo.readthedocs.io\n",
    "    x, y, x1, y1 = 0.1, 0.5, 0.4, 0.9\n",
    "    x2, y2, x3, y3 = 0.6, 0.1, 0.9, 0.5\n",
    "    context.scale(200, 200)\n",
    "    context.set_line_width(0.04)\n",
    "    context.move_to(x, y)\n",
    "    context.curve_to(x1, y1, x2, y2, x3, y3)\n",
    "    context.stroke()\n",
    "    context.set_source_rgba(1, 0.2, 0.2, 0.6)\n",
    "    context.set_line_width(0.02)\n",
    "    context.move_to(x, y)\n",
    "    context.line_to(x1, y1)\n",
    "    context.move_to(x2, y2)\n",
    "    context.line_to(x3, y3)\n",
    "    context.stroke()\n",
    "    # end of pycairo copy"
   ]
  },
  {
   "cell_type": "code",
   "execution_count": 6,
   "metadata": {},
   "outputs": [
    {
     "data": {
      "image/svg+xml": [
       "<svg xmlns=\"http://www.w3.org/2000/svg\" xmlns:xlink=\"http://www.w3.org/1999/xlink\" width=\"200pt\" height=\"200pt\" viewBox=\"0 0 200 200\" version=\"1.1\">\n",
       "<g id=\"surface1\">\n",
       "<path style=\"fill:none;stroke-width:0.04;stroke-linecap:butt;stroke-linejoin:miter;stroke:rgb(0%,0%,0%);stroke-opacity:1;stroke-miterlimit:10;\" d=\"M 0.1 0.5 C 0.4 0.9 0.6 0.1 0.9 0.5 \" transform=\"matrix(200,0,0,200,0,0)\"/>\n",
       "<path style=\"fill:none;stroke-width:0.02;stroke-linecap:butt;stroke-linejoin:miter;stroke:rgb(100%,20%,20%);stroke-opacity:0.6;stroke-miterlimit:10;\" d=\"M 0.1 0.5 L 0.4 0.9 M 0.6 0.1 L 0.9 0.5 \" transform=\"matrix(200,0,0,200,0,0)\"/>\n",
       "</g>\n",
       "</svg>"
      ],
      "text/plain": [
       "<IPython.core.display.SVG object>"
      ]
     },
     "execution_count": 6,
     "metadata": {},
     "output_type": "execute_result"
    }
   ],
   "source": [
    "IPython.display.SVG(data=display_image(draw_demo_image, 200, 200).getvalue())"
   ]
  },
  {
   "cell_type": "code",
   "execution_count": 7,
   "metadata": {},
   "outputs": [],
   "source": [
    "# adapted from https://github.com/RyanMarcus/humanLines/blob/master/index.js"
   ]
  },
  {
   "cell_type": "code",
   "execution_count": 8,
   "metadata": {},
   "outputs": [],
   "source": [
    "def time_to_point(sx, sy, fx, fy, t):\n",
    "    # scale the time value, which should be between 0 and 2, to 0 and 1\n",
    "    tau = t / 2.0;\n",
    "    poly_term = 15. * math.pow(tau, 4.) \\\n",
    "              - 6. * math.pow(tau, 5.) \\\n",
    "              - 10. * math.pow(tau, 3.);\n",
    "    \n",
    "    return {\"x\": sx + (sx - fx) * poly_term,\n",
    "            \"y\": sy + (sy - fy) * poly_term };"
   ]
  },
  {
   "cell_type": "code",
   "execution_count": 57,
   "metadata": {},
   "outputs": [],
   "source": [
    "def get_squiggle(prev, current, seed=None):\n",
    "    # find the midpoint\n",
    "    midpoint = {\"x\": (prev[\"x\"] + current[\"x\"]) / 2., \\\n",
    "                      \"y\": (prev[\"y\"] + current[\"y\"]) / 2.};\n",
    "\n",
    "    # displace by a random value between -5 and 5\n",
    "    # the paper calls to do this w.r.t. the normal of the line\n",
    "    # but we'll just do it on the circle.\n",
    "    if seed is not None:\n",
    "        random.seed(seed)\n",
    "    def rng():\n",
    "        return random.random()\n",
    "    \n",
    "    #displacementX = rng() * 10 - 5;\n",
    "    #displacementY = rng() * 10 - 5;\n",
    "    displacementX = rng() * 2. - 1.;\n",
    "    displacementY = rng() * 2. - 1.;\n",
    "    \n",
    "    midpoint[\"x\"] += displacementX;\n",
    "    midpoint[\"y\"] += displacementY;\n",
    "    \n",
    "    print(f\"{midpoint['x']}, {midpoint['y']}\")\n",
    "\n",
    "    return midpoint;"
   ]
  },
  {
   "cell_type": "code",
   "execution_count": 58,
   "metadata": {},
   "outputs": [],
   "source": [
    "def draw_natural_line(ctx, sx, sy, fx, fy, seed=None, print_points=False):\n",
    "    \n",
    "    dist = math.sqrt(math.pow(sx - fx, 2) + math.pow(sy - fy, 2));\n",
    "    if dist < 200:\n",
    "        dt = 0.5\n",
    "    elif dist < 400:\n",
    "        dt = 0.3\n",
    "    else:\n",
    "        dt = 0.2\n",
    "\n",
    "    last_point = {\"x\": sx, \"y\": sy};\n",
    "    ctx.set_source_rgba(0.7, 0.7, 0.7, 0.7)\n",
    "    ctx.new_path()\n",
    "    ctx.move_to(last_point[\"x\"], last_point[\"y\"])\n",
    "    \n",
    "    print(f\"last.x = {last_point['x']}, last.y = {last_point['y']}\")\n",
    "    for t in np.linspace(0, 2., int(2. / dt) + 1):\n",
    "        current_point = time_to_point(sx, sy, fx, fy, t);\n",
    "        squiggle_control_point = get_squiggle(last_point, current_point, seed=seed);\n",
    "        #print(f\"current.x = {current_point['x']}, current.y = {current_point['y']}\")\n",
    "        #ctx.line_to(current_point[\"x\"], current_point[\"y\"])\n",
    "        helper_quadratic_to(ctx, squiggle_control_point[\"x\"], squiggle_control_point[\"y\"], current_point[\"x\"], current_point[\"y\"]);\n",
    "\n",
    "        if print_points:\n",
    "            print(f\"current.x = {current_point['x']}, current.y = {current_point['y']}\")\n",
    "            print(f\"squiggle.x = {squiggle_control_point['x']}, squiggle.y = {squiggle_control_point['y']}\")\n",
    "            \n",
    "        last_point = current_point;\n",
    "\n",
    "    ctx.stroke()"
   ]
  },
  {
   "cell_type": "code",
   "execution_count": 62,
   "metadata": {},
   "outputs": [],
   "source": [
    "def draw_natural_rect(ctx, x, y, w, h, seed=None, print_points=False):\n",
    "    draw_natural_line(ctx, x,     y    , x + w, y    , seed=seed, print_points=print_points)\n",
    "    draw_natural_line(ctx, x + w, y    , x + w, y + h, seed=seed, print_points=print_points)\n",
    "    draw_natural_line(ctx, x + w, y + h, x    , y + h, seed=seed, print_points=print_points)\n",
    "    draw_natural_line(ctx, x    , y + h, x    , y    , seed=seed, print_points=print_points)"
   ]
  },
  {
   "cell_type": "code",
   "execution_count": 63,
   "metadata": {},
   "outputs": [],
   "source": [
    "def demo_natural_line(ctx):\n",
    "    a = 10\n",
    "    w = 160\n",
    "    ctx.translate(250, 0);\n",
    "    ctx.scale(-1, 1)\n",
    "    print_points = True\n",
    "    #draw_natural_rect(ctx, a, a, w, w, print_points=print_points);\n",
    "    draw_natural_rect(ctx, a + w/3, a + w/3, w, w, print_points=print_points);\n",
    "\n",
    "    #draw_natural_rect(ctx, a, a, a + w/3, a + w/3, print_points=print_points);\n",
    "    #draw_natural_rect(ctx, a, a + w, a + w/3, a + w/3 + w, print_points=print_points);\n",
    "    #draw_natural_rect(ctx, a + w, a, a + w/3 + w, a + w/3, print_points=print_points);\n",
    "    #draw_natural_rect(ctx, a + w, a + w, a + w/3 + w, a + w/3 + w, print_points=print_points);"
   ]
  },
  {
   "cell_type": "code",
   "execution_count": 64,
   "metadata": {},
   "outputs": [
    {
     "name": "stdout",
     "output_type": "stream",
     "text": [
      "last.x = 63.333333333333336, last.y = 63.333333333333336\n",
      "63.710917788562675, 63.63646087196838\n",
      "current.x = 63.333333333333336, current.y = 63.333333333333336\n",
      "squiggle.x = 63.710917788562675, squiggle.y = 63.63646087196838\n",
      "71.8383638484705, 63.139756748523205\n",
      "current.x = 79.89583333333334, current.y = 63.333333333333336\n",
      "squiggle.x = 71.8383638484705, squiggle.y = 63.139756748523205\n",
      "110.80311046677676, 63.53977080312023\n",
      "current.x = 143.33333333333334, current.y = 63.333333333333336\n",
      "squiggle.x = 110.80311046677676, squiggle.y = 63.53977080312023\n",
      "175.23340407411376, 63.44976532210949\n",
      "current.x = 206.77083333333334, current.y = 63.333333333333336\n",
      "squiggle.x = 175.23340407411376, squiggle.y = 63.44976532210949\n",
      "215.49958870058484, 63.324221530436866\n",
      "current.x = 223.33333333333334, current.y = 63.333333333333336\n",
      "squiggle.x = 215.49958870058484, squiggle.y = 63.324221530436866\n",
      "last.x = 223.33333333333334, last.y = 63.333333333333336\n",
      "222.91092517994304, 62.50864764576478\n",
      "current.x = 223.33333333333334, current.y = 63.333333333333336\n",
      "squiggle.x = 222.91092517994304, squiggle.y = 62.50864764576478\n",
      "222.5105842899863, 71.18738841345775\n",
      "current.x = 223.33333333333334, current.y = 79.89583333333334\n",
      "squiggle.x = 222.5105842899863, squiggle.y = 71.18738841345775\n",
      "222.98538115946366, 111.72579278374018\n",
      "current.x = 223.33333333333334, current.y = 143.33333333333334\n",
      "squiggle.x = 222.98538115946366, squiggle.y = 111.72579278374018\n",
      "224.16448883784506, 174.53485863579147\n",
      "current.x = 223.33333333333334, current.y = 206.77083333333334\n",
      "squiggle.x = 224.16448883784506, squiggle.y = 174.53485863579147\n",
      "222.69169132584614, 214.28075075121615\n",
      "current.x = 223.33333333333334, current.y = 223.33333333333334\n",
      "squiggle.x = 222.69169132584614, squiggle.y = 214.28075075121615\n",
      "last.x = 223.33333333333334, last.y = 223.33333333333334\n",
      "224.0457593733912, 222.5469137097961\n",
      "current.x = 223.33333333333334, current.y = 223.33333333333334\n",
      "squiggle.x = 224.0457593733912, squiggle.y = 222.5469137097961\n",
      "215.81496692832087, 224.0733228890862\n",
      "current.x = 206.77083333333334, current.y = 223.33333333333334\n",
      "squiggle.x = 215.81496692832087, squiggle.y = 224.0733228890862\n",
      "174.59913327651552, 223.79742919317903\n",
      "current.x = 143.33333333333334, current.y = 223.33333333333334\n",
      "squiggle.x = 174.59913327651552, squiggle.y = 223.79742919317903\n",
      "111.17850204925865, 223.88830198648947\n",
      "current.x = 79.89583333333334, current.y = 223.33333333333334\n",
      "squiggle.x = 111.17850204925865, squiggle.y = 223.88830198648947\n",
      "71.77744083557621, 224.22294115986318\n",
      "current.x = 63.33333333333334, current.y = 223.33333333333334\n",
      "squiggle.x = 71.77744083557621, squiggle.y = 224.22294115986318\n",
      "last.x = 63.333333333333336, last.y = 223.33333333333334\n",
      "64.17970898810694, 223.4400765912924\n",
      "current.x = 63.333333333333336, current.y = 223.33333333333334\n",
      "squiggle.x = 64.17970898810694, squiggle.y = 223.4400765912924\n",
      "62.39001562730192, 215.98280272454608\n",
      "current.x = 63.333333333333336, current.y = 206.77083333333334\n",
      "squiggle.x = 62.39001562730192, squiggle.y = 215.98280272454608\n",
      "63.6091115192901, 174.43794436683302\n",
      "current.x = 63.333333333333336, current.y = 143.33333333333334\n",
      "squiggle.x = 63.6091115192901, squiggle.y = 174.43794436683302\n",
      "63.44830060729383, 112.1248574195684\n",
      "current.x = 63.333333333333336, current.y = 79.89583333333334\n",
      "squiggle.x = 63.44830060729383, squiggle.y = 112.1248574195684\n",
      "62.55466336438377, 71.50779376746804\n",
      "current.x = 63.333333333333336, current.y = 63.33333333333334\n",
      "squiggle.x = 62.55466336438377, squiggle.y = 71.50779376746804\n"
     ]
    },
    {
     "data": {
      "image/svg+xml": [
       "<svg xmlns=\"http://www.w3.org/2000/svg\" xmlns:xlink=\"http://www.w3.org/1999/xlink\" width=\"300pt\" height=\"300pt\" viewBox=\"0 0 300 300\" version=\"1.1\">\n",
       "<g id=\"surface49\">\n",
       "<path style=\"fill:none;stroke-width:2;stroke-linecap:butt;stroke-linejoin:miter;stroke:rgb(70%,70%,70%);stroke-opacity:0.7;stroke-miterlimit:10;\" d=\"M 63.332031 63.332031 C 63.585938 63.535156 63.585938 63.535156 63.332031 63.332031 C 69.003906 63.203125 74.523438 63.203125 79.894531 63.332031 C 100.5 63.46875 121.648438 63.472656 143.332031 63.332031 C 164.601562 63.410156 185.746094 63.410156 206.769531 63.332031 C 212.589844 63.328125 218.109375 63.328125 223.332031 63.332031 \" transform=\"matrix(-1,0,0,1,250,0)\"/>\n",
       "<path style=\"fill:none;stroke-width:2;stroke-linecap:butt;stroke-linejoin:miter;stroke:rgb(70%,70%,70%);stroke-opacity:0.7;stroke-miterlimit:10;\" d=\"M 223.332031 63.332031 C 223.050781 62.78125 223.050781 62.785156 223.332031 63.332031 C 222.785156 68.570312 222.785156 74.089844 223.332031 79.894531 C 223.101562 101.117188 223.101562 122.261719 223.332031 143.332031 C 223.886719 164.132812 223.886719 185.28125 223.332031 206.769531 C 222.90625 211.777344 222.90625 217.296875 223.332031 223.332031 \" transform=\"matrix(-1,0,0,1,250,0)\"/>\n",
       "<path style=\"fill:none;stroke-width:2;stroke-linecap:butt;stroke-linejoin:miter;stroke:rgb(70%,70%,70%);stroke-opacity:0.7;stroke-miterlimit:10;\" d=\"M 223.332031 223.332031 C 223.808594 222.808594 223.808594 222.808594 223.332031 223.332031 C 218.320312 223.828125 212.800781 223.828125 206.769531 223.332031 C 185.324219 223.640625 164.175781 223.644531 143.332031 223.332031 C 121.894531 223.703125 100.75 223.703125 79.894531 223.332031 C 74.484375 223.925781 68.960938 223.925781 63.332031 223.332031 \" transform=\"matrix(-1,0,0,1,250,0)\"/>\n",
       "<path style=\"fill:none;stroke-width:2;stroke-linecap:butt;stroke-linejoin:miter;stroke:rgb(70%,70%,70%);stroke-opacity:0.7;stroke-miterlimit:10;\" d=\"M 63.332031 223.332031 C 63.898438 223.402344 63.898438 223.40625 63.332031 223.332031 C 62.703125 218.433594 62.703125 212.914062 63.332031 206.769531 C 63.515625 185.214844 63.515625 164.070312 63.332031 143.332031 C 63.410156 122.527344 63.410156 101.382812 63.332031 79.894531 C 62.8125 74.304688 62.8125 68.78125 63.332031 63.332031 \" transform=\"matrix(-1,0,0,1,250,0)\"/>\n",
       "</g>\n",
       "</svg>"
      ],
      "text/plain": [
       "<IPython.core.display.SVG object>"
      ]
     },
     "execution_count": 64,
     "metadata": {},
     "output_type": "execute_result"
    }
   ],
   "source": [
    "IPython.display.SVG(data=display_image(demo_natural_line, 300, 300).getvalue())"
   ]
  },
  {
   "cell_type": "code",
   "execution_count": null,
   "metadata": {},
   "outputs": [],
   "source": []
  },
  {
   "cell_type": "code",
   "execution_count": null,
   "metadata": {},
   "outputs": [],
   "source": []
  }
 ],
 "metadata": {
  "kernelspec": {
   "display_name": "Python 3",
   "language": "python",
   "name": "python3"
  },
  "language_info": {
   "codemirror_mode": {
    "name": "ipython",
    "version": 3
   },
   "file_extension": ".py",
   "mimetype": "text/x-python",
   "name": "python",
   "nbconvert_exporter": "python",
   "pygments_lexer": "ipython3",
   "version": "3.8.1"
  }
 },
 "nbformat": 4,
 "nbformat_minor": 4
}
