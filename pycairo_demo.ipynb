{
 "cells": [
  {
   "cell_type": "code",
   "execution_count": 1,
   "metadata": {},
   "outputs": [],
   "source": [
    "from io import BytesIO\n",
    "import os\n",
    "\n",
    "import cairo\n",
    "import IPython.display\n",
    "\n",
    "from pydmap import natural_lines, hatching"
   ]
  },
  {
   "cell_type": "code",
   "execution_count": 2,
   "metadata": {},
   "outputs": [],
   "source": [
    "def display_image(render_func, xsize, ysize):\n",
    "    svgio = BytesIO()\n",
    "    with cairo.SVGSurface(svgio, xsize, ysize) as surface:\n",
    "        context = cairo.Context(surface)\n",
    "        render_func(context, ysize, xsize)\n",
    "    return svgio"
   ]
  },
  {
   "cell_type": "code",
   "execution_count": 3,
   "metadata": {},
   "outputs": [
    {
     "data": {
      "image/svg+xml": [
       "<svg xmlns=\"http://www.w3.org/2000/svg\" xmlns:xlink=\"http://www.w3.org/1999/xlink\" width=\"600pt\" height=\"105pt\" viewBox=\"0 0 600 105\" version=\"1.1\">\n",
       "<g id=\"surface1\">\n",
       "<path style=\"fill:none;stroke-width:2;stroke-linecap:butt;stroke-linejoin:miter;stroke:rgb(0%,0%,0%);stroke-opacity:1;stroke-miterlimit:10;\" d=\"M 10 10 C 10.871094 12.226562 10.871094 12.226562 10 10 C 13.167969 7.238281 16.273438 7.238281 19.316406 10 C 30.527344 9.25 42.421875 9.25 55 10 C 68.816406 10.375 80.710938 10.375 90.683594 10 C 95.21875 9.832031 98.324219 9.832031 100 10 \" transform=\"matrix(-1,0,0,1,520,0)\"/>\n",
       "<path style=\"fill:none;stroke-width:2;stroke-linecap:butt;stroke-linejoin:miter;stroke:rgb(0%,0%,0%);stroke-opacity:1;stroke-miterlimit:10;\" d=\"M 100 10 C 97.953125 9.554688 97.953125 9.554688 100 10 C 102.351562 13.585938 102.351562 16.691406 100 19.316406 C 101.890625 31.835938 101.890625 43.730469 100 55 C 97.363281 66.265625 97.363281 78.160156 100 90.683594 C 101.105469 95.570312 101.105469 98.675781 100 100 \" transform=\"matrix(-1,0,0,1,520,0)\"/>\n",
       "<path style=\"fill:none;stroke-width:2;stroke-linecap:butt;stroke-linejoin:miter;stroke:rgb(0%,0%,0%);stroke-opacity:1;stroke-miterlimit:10;\" d=\"M 100 100 C 96.761719 101.625 96.761719 101.625 100 100 C 95.125 98.703125 92.019531 98.703125 90.683594 100 C 77.191406 98.789062 65.296875 98.789062 55 100 C 40.429688 97.613281 28.535156 97.613281 19.316406 100 C 15.164062 100.46875 12.058594 100.46875 10 100 \" transform=\"matrix(-1,0,0,1,520,0)\"/>\n",
       "<path style=\"fill:none;stroke-width:2;stroke-linecap:butt;stroke-linejoin:miter;stroke:rgb(0%,0%,0%);stroke-opacity:1;stroke-miterlimit:10;\" d=\"M 10 100 C 9.421875 97.308594 9.421875 97.308594 10 100 C 9.515625 99.035156 9.515625 95.929688 10 90.683594 C 12.617188 75.457031 12.617188 63.5625 10 55 C 13.328125 44.296875 13.328125 32.402344 10 19.316406 C 9.332031 13.253906 9.332031 10.148438 10 10 \" transform=\"matrix(-1,0,0,1,520,0)\"/>\n",
       "<path style=\"fill:none;stroke-width:2;stroke-linecap:butt;stroke-linejoin:miter;stroke:rgb(0%,0%,0%);stroke-opacity:1;stroke-miterlimit:10;\" d=\"M 110 10 C 109.753906 8.484375 109.753906 8.484375 110 10 C 113.039062 8.730469 116.144531 8.730469 119.316406 10 C 130.511719 12.207031 142.40625 12.207031 155 10 C 165.863281 12.183594 177.757812 12.183594 190.683594 10 C 195.84375 9.113281 198.949219 9.113281 200 10 \" transform=\"matrix(-1,0,0,1,520,0)\"/>\n",
       "<path style=\"fill:none;stroke-width:2;stroke-linecap:butt;stroke-linejoin:miter;stroke:rgb(0%,0%,0%);stroke-opacity:1;stroke-miterlimit:10;\" d=\"M 200 10 C 198.941406 8.699219 198.941406 8.699219 200 10 C 200.222656 13.449219 200.222656 16.554688 200 19.316406 C 199.304688 32.085938 199.304688 43.980469 200 55 C 198.996094 66.996094 198.996094 78.890625 200 90.683594 C 198.574219 95.449219 198.574219 98.554688 200 100 \" transform=\"matrix(-1,0,0,1,520,0)\"/>\n",
       "<path style=\"fill:none;stroke-width:2;stroke-linecap:butt;stroke-linejoin:miter;stroke:rgb(0%,0%,0%);stroke-opacity:1;stroke-miterlimit:10;\" d=\"M 200 100 C 199.445312 100.628906 199.445312 100.628906 200 100 C 195.191406 101.882812 192.085938 101.882812 190.683594 100 C 179.574219 98.03125 167.679688 98.03125 155 100 C 143.175781 100.246094 131.28125 100.246094 119.316406 100 C 116.695312 99.660156 113.589844 99.660156 110 100 \" transform=\"matrix(-1,0,0,1,520,0)\"/>\n",
       "<path style=\"fill:none;stroke-width:2;stroke-linecap:butt;stroke-linejoin:miter;stroke:rgb(0%,0%,0%);stroke-opacity:1;stroke-miterlimit:10;\" d=\"M 110 100 C 108.859375 100.078125 108.859375 100.078125 110 100 C 110.054688 96.558594 110.054688 93.453125 110 90.683594 C 108.800781 81.011719 108.800781 69.117188 110 55 C 110.828125 44.652344 110.828125 32.757812 110 19.316406 C 108.421875 15.191406 108.421875 12.085938 110 10 \" transform=\"matrix(-1,0,0,1,520,0)\"/>\n",
       "<path style=\"fill:none;stroke-width:2;stroke-linecap:butt;stroke-linejoin:miter;stroke:rgb(0%,0%,0%);stroke-opacity:1;stroke-miterlimit:10;\" d=\"M 210 10 C 209.238281 8.730469 209.238281 8.730469 210 10 C 212.445312 11.648438 215.550781 11.648438 219.316406 10 C 232.777344 8.949219 244.671875 8.949219 255 10 C 265.644531 9.617188 277.539062 9.617188 290.683594 10 C 294.683594 10.511719 297.789062 10.511719 300 10 \" transform=\"matrix(-1,0,0,1,520,0)\"/>\n",
       "<path style=\"fill:none;stroke-width:2;stroke-linecap:butt;stroke-linejoin:miter;stroke:rgb(0%,0%,0%);stroke-opacity:1;stroke-miterlimit:10;\" d=\"M 300 10 C 299.519531 11.367188 299.519531 11.367188 300 10 C 299.476562 14.429688 299.476562 17.535156 300 19.316406 C 299.304688 31.566406 299.304688 43.460938 300 55 C 300.367188 66.644531 300.367188 78.539062 300 90.683594 C 298.957031 92.261719 298.957031 95.367188 300 100 \" transform=\"matrix(-1,0,0,1,520,0)\"/>\n",
       "<path style=\"fill:none;stroke-width:2;stroke-linecap:butt;stroke-linejoin:miter;stroke:rgb(0%,0%,0%);stroke-opacity:1;stroke-miterlimit:10;\" d=\"M 300 100 C 300.773438 99.414062 300.773438 99.414062 300 100 C 296.101562 100.15625 292.996094 100.15625 290.683594 100 C 279.195312 101.03125 267.300781 101.03125 255 100 C 242.710938 101.503906 230.816406 101.503906 219.316406 100 C 215.566406 98.722656 212.460938 98.722656 210 100 \" transform=\"matrix(-1,0,0,1,520,0)\"/>\n",
       "<path style=\"fill:none;stroke-width:2;stroke-linecap:butt;stroke-linejoin:miter;stroke:rgb(0%,0%,0%);stroke-opacity:1;stroke-miterlimit:10;\" d=\"M 210 100 C 210.277344 98.476562 210.277344 98.476562 210 100 C 209.320312 96.464844 209.320312 93.359375 210 90.683594 C 209.28125 79.40625 209.28125 67.511719 210 55 C 209.523438 41.761719 209.523438 29.867188 210 19.316406 C 210.148438 17.292969 210.148438 14.1875 210 10 \" transform=\"matrix(-1,0,0,1,520,0)\"/>\n",
       "<path style=\"fill:none;stroke-width:2;stroke-linecap:butt;stroke-linejoin:miter;stroke:rgb(0%,0%,0%);stroke-opacity:1;stroke-miterlimit:10;\" d=\"M 310 10 C 310.410156 9.414062 310.410156 9.414062 310 10 C 313.597656 10.550781 316.703125 10.550781 319.316406 10 C 331.308594 9.878906 343.203125 9.878906 355 10 C 367.546875 9.597656 379.441406 9.597656 390.683594 10 C 393.332031 9.351562 396.4375 9.351562 400 10 \" transform=\"matrix(-1,0,0,1,520,0)\"/>\n",
       "<path style=\"fill:none;stroke-width:2;stroke-linecap:butt;stroke-linejoin:miter;stroke:rgb(0%,0%,0%);stroke-opacity:1;stroke-miterlimit:10;\" d=\"M 400 10 C 399.382812 9.992188 399.382812 9.992188 400 10 C 400.28125 13.386719 400.28125 16.492188 400 19.316406 C 400.335938 31.0625 400.335938 42.957031 400 55 C 400.066406 66.589844 400.066406 78.484375 400 90.683594 C 400.226562 94.429688 400.226562 97.535156 400 100 \" transform=\"matrix(-1,0,0,1,520,0)\"/>\n",
       "<path style=\"fill:none;stroke-width:2;stroke-linecap:butt;stroke-linejoin:miter;stroke:rgb(0%,0%,0%);stroke-opacity:1;stroke-miterlimit:10;\" d=\"M 400 100 C 399.441406 100.335938 399.441406 100.335938 400 100 C 396.746094 100.652344 393.640625 100.652344 390.683594 100 C 379.128906 100.324219 367.234375 100.324219 355 100 C 343.386719 100.292969 331.492188 100.292969 319.316406 100 C 316.800781 100.308594 313.695312 100.308594 310 100 \" transform=\"matrix(-1,0,0,1,520,0)\"/>\n",
       "<path style=\"fill:none;stroke-width:2;stroke-linecap:butt;stroke-linejoin:miter;stroke:rgb(0%,0%,0%);stroke-opacity:1;stroke-miterlimit:10;\" d=\"M 310 100 C 309.375 100.542969 309.375 100.542969 310 100 C 309.375 96.699219 309.375 93.59375 310 90.683594 C 309.847656 78.671875 309.847656 66.777344 310 55 C 310.464844 42.859375 310.464844 30.964844 310 19.316406 C 310.433594 16.398438 310.433594 13.292969 310 10 \" transform=\"matrix(-1,0,0,1,520,0)\"/>\n",
       "<path style=\"fill:none;stroke-width:2;stroke-linecap:butt;stroke-linejoin:miter;stroke:rgb(0%,0%,0%);stroke-opacity:1;stroke-miterlimit:10;\" d=\"M 410 10 C 409.898438 10.097656 409.898438 10.097656 410 10 C 413.351562 9.804688 416.457031 9.804688 419.316406 10 C 431.441406 9.714844 443.335938 9.714844 455 10 C 466.839844 9.789062 478.734375 9.789062 490.683594 10 C 493.476562 10.050781 496.582031 10.050781 500 10 \" transform=\"matrix(-1,0,0,1,520,0)\"/>\n",
       "<path style=\"fill:none;stroke-width:2;stroke-linecap:butt;stroke-linejoin:miter;stroke:rgb(0%,0%,0%);stroke-opacity:1;stroke-miterlimit:10;\" d=\"M 500 10 C 500.257812 9.914062 500.257812 9.914062 500 10 C 500.105469 12.914062 500.105469 16.019531 500 19.316406 C 500.128906 31.078125 500.128906 42.972656 500 55 C 499.785156 67.148438 499.785156 79.042969 500 90.683594 C 500.035156 93.902344 500.035156 97.007812 500 100 \" transform=\"matrix(-1,0,0,1,520,0)\"/>\n",
       "<path style=\"fill:none;stroke-width:2;stroke-linecap:butt;stroke-linejoin:miter;stroke:rgb(0%,0%,0%);stroke-opacity:1;stroke-miterlimit:10;\" d=\"M 500 100 C 500.15625 100.007812 500.15625 100.007812 500 100 C 497.035156 99.871094 493.929688 99.871094 490.683594 100 C 478.695312 100.15625 466.800781 100.15625 455 100 C 443.296875 100.082031 431.402344 100.082031 419.316406 100 C 416.105469 100.324219 413 100.324219 410 100 \" transform=\"matrix(-1,0,0,1,520,0)\"/>\n",
       "<path style=\"fill:none;stroke-width:2;stroke-linecap:butt;stroke-linejoin:miter;stroke:rgb(0%,0%,0%);stroke-opacity:1;stroke-miterlimit:10;\" d=\"M 410 100 C 409.867188 100.230469 409.867188 100.230469 410 100 C 409.804688 96.6875 409.804688 93.582031 410 90.683594 C 409.976562 78.675781 409.976562 66.78125 410 55 C 410.304688 43.203125 410.304688 31.308594 410 19.316406 C 409.941406 16.5 409.941406 13.394531 410 10 \" transform=\"matrix(-1,0,0,1,520,0)\"/>\n",
       "</g>\n",
       "</svg>"
      ],
      "text/plain": [
       "<IPython.core.display.SVG object>"
      ]
     },
     "execution_count": 3,
     "metadata": {},
     "output_type": "execute_result"
    }
   ],
   "source": [
    "IPython.display.SVG(data=display_image(natural_lines.demo, 600, 105).getvalue())"
   ]
  },
  {
   "cell_type": "code",
   "execution_count": 4,
   "metadata": {},
   "outputs": [
    {
     "data": {
      "image/svg+xml": [
       "<svg xmlns=\"http://www.w3.org/2000/svg\" xmlns:xlink=\"http://www.w3.org/1999/xlink\" width=\"400pt\" height=\"110pt\" viewBox=\"0 0 400 110\" version=\"1.1\">\n",
       "<g id=\"surface5\">\n",
       "<path style=\"fill:none;stroke-width:2;stroke-linecap:butt;stroke-linejoin:miter;stroke:rgb(0%,0%,0%);stroke-opacity:1;stroke-miterlimit:10;\" d=\"M 22.464844 85.339844 C 23.023438 83.941406 23.023438 83.941406 22.464844 85.339844 C 22.421875 83.292969 22.507812 80.277344 22.714844 76.289062 C 22.035156 64.660156 22.355469 53.109375 23.675781 41.636719 C 23.671875 29.222656 23.992188 17.671875 24.636719 6.980469 C 26.335938 4.351562 26.417969 1.335938 24.886719 -2.066406 \"/>\n",
       "<path style=\"fill:none;stroke-width:2;stroke-linecap:butt;stroke-linejoin:miter;stroke:rgb(0%,0%,0%);stroke-opacity:1;stroke-miterlimit:10;\" d=\"M 40.074219 85.53125 C 41.609375 86.019531 41.609375 86.015625 40.074219 85.53125 C 40.960938 81.84375 41.015625 78.800781 40.242188 76.40625 C 40.699219 66.238281 40.914062 54.589844 40.886719 41.464844 C 41.941406 31.460938 42.15625 19.816406 41.527344 6.523438 C 41.046875 3.996094 41.105469 0.957031 41.695312 -2.597656 \"/>\n",
       "<path style=\"fill:none;stroke-width:2;stroke-linecap:butt;stroke-linejoin:miter;stroke:rgb(0%,0%,0%);stroke-opacity:1;stroke-miterlimit:10;\" d=\"M 55.347656 89.09375 C 55.230469 90.65625 55.230469 90.65625 55.347656 89.09375 C 56.621094 86.628906 56.652344 83.300781 55.445312 79.113281 C 55.585938 67.546875 55.707031 54.800781 55.8125 40.878906 C 56.425781 27.824219 56.546875 15.078125 56.179688 2.648438 C 56.871094 -0.28125 56.902344 -3.609375 56.277344 -7.332031 \"/>\n",
       "<path style=\"fill:none;stroke-width:2;stroke-linecap:butt;stroke-linejoin:miter;stroke:rgb(0%,0%,0%);stroke-opacity:1;stroke-miterlimit:10;\" d=\"M 84.242188 81.863281 C 85.886719 82.640625 85.886719 82.640625 84.242188 81.863281 C 83.730469 78.882812 83.480469 75.746094 83.480469 72.457031 C 83.945312 61.371094 82.972656 49.359375 80.5625 36.421875 C 79.261719 25.792969 78.289062 13.78125 77.644531 0.386719 C 77.027344 -1.78125 76.769531 -4.917969 76.882812 -9.023438 \"/>\n",
       "<path style=\"fill:none;stroke-width:2;stroke-linecap:butt;stroke-linejoin:miter;stroke:rgb(0%,0%,0%);stroke-opacity:1;stroke-miterlimit:10;\" d=\"M 102.089844 86.417969 C 100.636719 86.351562 100.636719 86.351562 102.089844 86.417969 C 102.5625 82.515625 102.585938 79.5 102.160156 77.371094 C 102.375 66.644531 102.464844 55.09375 102.433594 42.722656 C 102.871094 30.023438 102.964844 18.472656 102.710938 8.074219 C 104.152344 6.238281 104.175781 3.222656 102.78125 -0.972656 \"/>\n",
       "</g>\n",
       "</svg>"
      ],
      "text/plain": [
       "<IPython.core.display.SVG object>"
      ]
     },
     "execution_count": 4,
     "metadata": {},
     "output_type": "execute_result"
    }
   ],
   "source": [
    "IPython.display.SVG(data=display_image(hatching.demo, 400, 110).getvalue())"
   ]
  }
 ],
 "metadata": {
  "kernelspec": {
   "display_name": "Python 3",
   "language": "python",
   "name": "python3"
  },
  "language_info": {
   "codemirror_mode": {
    "name": "ipython",
    "version": 3
   },
   "file_extension": ".py",
   "mimetype": "text/x-python",
   "name": "python",
   "nbconvert_exporter": "python",
   "pygments_lexer": "ipython3",
   "version": "3.8.1"
  }
 },
 "nbformat": 4,
 "nbformat_minor": 4
}
