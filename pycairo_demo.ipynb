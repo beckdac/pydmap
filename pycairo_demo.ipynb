{
 "cells": [
  {
   "cell_type": "code",
   "execution_count": 1,
   "metadata": {},
   "outputs": [],
   "source": [
    "from io import BytesIO\n",
    "import os\n",
    "\n",
    "import cairo\n",
    "import IPython.display\n",
    "\n",
    "from pydmap import natural_lines, hatching"
   ]
  },
  {
   "cell_type": "code",
   "execution_count": 2,
   "metadata": {},
   "outputs": [],
   "source": [
    "def display_image(render_func, xsize, ysize):\n",
    "    svgio = BytesIO()\n",
    "    with cairo.SVGSurface(svgio, xsize, ysize) as surface:\n",
    "        context = cairo.Context(surface)\n",
    "        render_func(context, ysize, xsize)\n",
    "    return svgio"
   ]
  },
  {
   "cell_type": "code",
   "execution_count": 3,
   "metadata": {},
   "outputs": [
    {
     "data": {
      "image/svg+xml": [
       "<svg xmlns=\"http://www.w3.org/2000/svg\" xmlns:xlink=\"http://www.w3.org/1999/xlink\" width=\"600pt\" height=\"105pt\" viewBox=\"0 0 600 105\" version=\"1.1\">\n",
       "<g id=\"surface1\">\n",
       "<path style=\"fill:none;stroke-width:2;stroke-linecap:butt;stroke-linejoin:miter;stroke:rgb(0%,0%,0%);stroke-opacity:1;stroke-miterlimit:10;\" d=\"M 10 10 C 7.546875 11.546875 7.546875 11.546875 10 10 C 13.835938 7.140625 16.941406 7.140625 19.316406 10 C 32.386719 12.371094 44.28125 12.371094 55 10 C 65.824219 12.214844 77.71875 12.214844 90.683594 10 C 93.3125 7.195312 96.417969 7.195312 100 10 \" transform=\"matrix(-1,0,0,1,520,0)\"/>\n",
       "<path style=\"fill:none;stroke-width:2;stroke-linecap:butt;stroke-linejoin:miter;stroke:rgb(0%,0%,0%);stroke-opacity:1;stroke-miterlimit:10;\" d=\"M 100 10 C 97.96875 11.53125 97.96875 11.53125 100 10 C 100.839844 14.816406 100.839844 17.921875 100 19.316406 C 99.300781 34.261719 99.300781 46.15625 100 55 C 102.476562 69.230469 102.476562 81.125 100 90.683594 C 98.875 94.339844 98.875 97.445312 100 100 \" transform=\"matrix(-1,0,0,1,520,0)\"/>\n",
       "<path style=\"fill:none;stroke-width:2;stroke-linecap:butt;stroke-linejoin:miter;stroke:rgb(0%,0%,0%);stroke-opacity:1;stroke-miterlimit:10;\" d=\"M 100 100 C 102.132812 97.320312 102.132812 97.320312 100 100 C 95.5625 102.835938 92.457031 102.835938 90.683594 100 C 76.988281 100.828125 65.09375 100.828125 55 100 C 40.492188 101.285156 28.597656 101.285156 19.316406 100 C 13.710938 102.253906 10.605469 102.253906 10 100 \" transform=\"matrix(-1,0,0,1,520,0)\"/>\n",
       "<path style=\"fill:none;stroke-width:2;stroke-linecap:butt;stroke-linejoin:miter;stroke:rgb(0%,0%,0%);stroke-opacity:1;stroke-miterlimit:10;\" d=\"M 10 100 C 7.199219 97.242188 7.199219 97.242188 10 100 C 10.054688 94.941406 10.054688 91.835938 10 90.683594 C 10.90625 82 10.90625 70.105469 10 55 C 10.515625 42.671875 10.515625 30.777344 10 19.316406 C 7.195312 15.8125 7.195312 12.707031 10 10 \" transform=\"matrix(-1,0,0,1,520,0)\"/>\n",
       "<path style=\"fill:none;stroke-width:2;stroke-linecap:butt;stroke-linejoin:miter;stroke:rgb(0%,0%,0%);stroke-opacity:1;stroke-miterlimit:10;\" d=\"M 110 10 C 109.519531 9.136719 109.519531 9.136719 110 10 C 114.714844 10 117.820312 10 119.316406 10 C 133.039062 11.667969 144.933594 11.667969 155 10 C 166.140625 10.132812 178.035156 10.132812 190.683594 10 C 193.242188 10.4375 196.347656 10.4375 200 10 \" transform=\"matrix(-1,0,0,1,520,0)\"/>\n",
       "<path style=\"fill:none;stroke-width:2;stroke-linecap:butt;stroke-linejoin:miter;stroke:rgb(0%,0%,0%);stroke-opacity:1;stroke-miterlimit:10;\" d=\"M 200 10 C 198.367188 9.246094 198.367188 9.246094 200 10 C 202.1875 13.832031 202.1875 16.9375 200 19.316406 C 199.527344 32.167969 199.527344 44.0625 200 55 C 199.738281 66.8125 199.738281 78.707031 200 90.683594 C 198.929688 91.910156 198.929688 95.015625 200 100 \" transform=\"matrix(-1,0,0,1,520,0)\"/>\n",
       "<path style=\"fill:none;stroke-width:2;stroke-linecap:butt;stroke-linejoin:miter;stroke:rgb(0%,0%,0%);stroke-opacity:1;stroke-miterlimit:10;\" d=\"M 200 100 C 201.492188 100.527344 201.492188 100.527344 200 100 C 195.949219 97.75 192.84375 97.75 190.683594 100 C 179.667969 99.484375 167.773438 99.484375 155 100 C 144.515625 98.1875 132.621094 98.1875 119.316406 100 C 116.726562 99.792969 113.621094 99.792969 110 100 \" transform=\"matrix(-1,0,0,1,520,0)\"/>\n",
       "<path style=\"fill:none;stroke-width:2;stroke-linecap:butt;stroke-linejoin:miter;stroke:rgb(0%,0%,0%);stroke-opacity:1;stroke-miterlimit:10;\" d=\"M 110 100 C 108.519531 101.183594 108.519531 101.183594 110 100 C 110.925781 98.34375 110.925781 95.238281 110 90.683594 C 107.96875 80.496094 107.96875 68.601562 110 55 C 109.933594 40.792969 109.933594 28.898438 110 19.316406 C 110.046875 14.535156 110.046875 11.429688 110 10 \" transform=\"matrix(-1,0,0,1,520,0)\"/>\n",
       "<path style=\"fill:none;stroke-width:2;stroke-linecap:butt;stroke-linejoin:miter;stroke:rgb(0%,0%,0%);stroke-opacity:1;stroke-miterlimit:10;\" d=\"M 210 10 C 210.097656 8.558594 210.097656 8.558594 210 10 C 211.667969 9.609375 214.773438 9.609375 219.316406 10 C 229.625 8.59375 241.519531 8.59375 255 10 C 267.425781 10.15625 279.320312 10.15625 290.683594 10 C 292.492188 8.78125 295.597656 8.78125 300 10 \" transform=\"matrix(-1,0,0,1,520,0)\"/>\n",
       "<path style=\"fill:none;stroke-width:2;stroke-linecap:butt;stroke-linejoin:miter;stroke:rgb(0%,0%,0%);stroke-opacity:1;stroke-miterlimit:10;\" d=\"M 300 10 C 298.46875 9.613281 298.46875 9.613281 300 10 C 299.355469 14.101562 299.355469 17.207031 300 19.316406 C 300.941406 30.128906 300.941406 42.023438 300 55 C 300.804688 68.429688 300.804688 80.324219 300 90.683594 C 301.351562 94.972656 301.351562 98.078125 300 100 \" transform=\"matrix(-1,0,0,1,520,0)\"/>\n",
       "<path style=\"fill:none;stroke-width:2;stroke-linecap:butt;stroke-linejoin:miter;stroke:rgb(0%,0%,0%);stroke-opacity:1;stroke-miterlimit:10;\" d=\"M 300 100 C 300.972656 99.328125 300.972656 99.328125 300 100 C 296.433594 99.097656 293.328125 99.097656 290.683594 100 C 277.457031 99.511719 265.5625 99.511719 255 100 C 242.582031 101.035156 230.6875 101.035156 219.316406 100 C 217.121094 99.046875 214.015625 99.046875 210 100 \" transform=\"matrix(-1,0,0,1,520,0)\"/>\n",
       "<path style=\"fill:none;stroke-width:2;stroke-linecap:butt;stroke-linejoin:miter;stroke:rgb(0%,0%,0%);stroke-opacity:1;stroke-miterlimit:10;\" d=\"M 210 100 C 211.492188 99.234375 211.492188 99.234375 210 100 C 211.28125 97.667969 211.28125 94.5625 210 90.683594 C 210.199219 77.175781 210.199219 65.28125 210 55 C 210.535156 42.707031 210.535156 30.8125 210 19.316406 C 211.375 15.515625 211.375 12.410156 210 10 \" transform=\"matrix(-1,0,0,1,520,0)\"/>\n",
       "<path style=\"fill:none;stroke-width:2;stroke-linecap:butt;stroke-linejoin:miter;stroke:rgb(0%,0%,0%);stroke-opacity:1;stroke-miterlimit:10;\" d=\"M 310 10 C 309.925781 9.515625 309.925781 9.515625 310 10 C 312.894531 10.152344 316 10.152344 319.316406 10 C 331.375 9.421875 343.269531 9.421875 355 10 C 367.515625 10.320312 379.410156 10.320312 390.683594 10 C 394.265625 9.625 397.371094 9.625 400 10 \" transform=\"matrix(-1,0,0,1,520,0)\"/>\n",
       "<path style=\"fill:none;stroke-width:2;stroke-linecap:butt;stroke-linejoin:miter;stroke:rgb(0%,0%,0%);stroke-opacity:1;stroke-miterlimit:10;\" d=\"M 400 10 C 399.707031 10.03125 399.707031 10.03125 400 10 C 399.964844 13.511719 399.964844 16.617188 400 19.316406 C 399.984375 31.152344 399.984375 43.046875 400 55 C 399.703125 66.808594 399.703125 78.703125 400 90.683594 C 399.738281 93.78125 399.738281 96.886719 400 100 \" transform=\"matrix(-1,0,0,1,520,0)\"/>\n",
       "<path style=\"fill:none;stroke-width:2;stroke-linecap:butt;stroke-linejoin:miter;stroke:rgb(0%,0%,0%);stroke-opacity:1;stroke-miterlimit:10;\" d=\"M 400 100 C 399.550781 100.398438 399.550781 100.398438 400 100 C 397.511719 99.949219 394.40625 99.949219 390.683594 100 C 379.375 99.660156 367.480469 99.660156 355 100 C 343.589844 99.480469 331.695312 99.480469 319.316406 100 C 316.28125 99.488281 313.175781 99.488281 310 100 \" transform=\"matrix(-1,0,0,1,520,0)\"/>\n",
       "<path style=\"fill:none;stroke-width:2;stroke-linecap:butt;stroke-linejoin:miter;stroke:rgb(0%,0%,0%);stroke-opacity:1;stroke-miterlimit:10;\" d=\"M 310 100 C 309.441406 100.546875 309.441406 100.546875 310 100 C 309.785156 96.308594 309.785156 93.203125 310 90.683594 C 310.203125 78.832031 310.203125 66.9375 310 55 C 309.34375 43 309.34375 31.105469 310 19.316406 C 310 15.921875 310 12.816406 310 10 \" transform=\"matrix(-1,0,0,1,520,0)\"/>\n",
       "<path style=\"fill:none;stroke-width:2;stroke-linecap:butt;stroke-linejoin:miter;stroke:rgb(0%,0%,0%);stroke-opacity:1;stroke-miterlimit:10;\" d=\"M 410 10 C 409.820312 10.210938 409.820312 10.210938 410 10 C 412.925781 9.988281 416.03125 9.988281 419.316406 10 C 430.886719 10.210938 442.78125 10.210938 455 10 C 466.679688 10.015625 478.574219 10.015625 490.683594 10 C 493.503906 9.710938 496.609375 9.710938 500 10 \" transform=\"matrix(-1,0,0,1,520,0)\"/>\n",
       "<path style=\"fill:none;stroke-width:2;stroke-linecap:butt;stroke-linejoin:miter;stroke:rgb(0%,0%,0%);stroke-opacity:1;stroke-miterlimit:10;\" d=\"M 500 10 C 499.722656 9.925781 499.722656 9.925781 500 10 C 500.140625 12.980469 500.140625 16.085938 500 19.316406 C 500.003906 31.300781 500.003906 43.195312 500 55 C 500.253906 67.039062 500.253906 78.933594 500 90.683594 C 500.132812 93.699219 500.132812 96.804688 500 100 \" transform=\"matrix(-1,0,0,1,520,0)\"/>\n",
       "<path style=\"fill:none;stroke-width:2;stroke-linecap:butt;stroke-linejoin:miter;stroke:rgb(0%,0%,0%);stroke-opacity:1;stroke-miterlimit:10;\" d=\"M 500 100 C 499.691406 99.96875 499.691406 99.96875 500 100 C 497.113281 99.832031 494.007812 99.832031 490.683594 100 C 478.777344 100.066406 466.882812 100.066406 455 100 C 442.949219 100.3125 431.054688 100.3125 419.316406 100 C 416.136719 99.949219 413.03125 99.949219 410 100 \" transform=\"matrix(-1,0,0,1,520,0)\"/>\n",
       "<path style=\"fill:none;stroke-width:2;stroke-linecap:butt;stroke-linejoin:miter;stroke:rgb(0%,0%,0%);stroke-opacity:1;stroke-miterlimit:10;\" d=\"M 410 100 C 409.914062 99.886719 409.914062 99.886719 410 100 C 409.792969 96.761719 409.792969 93.65625 410 90.683594 C 410.320312 78.613281 410.320312 66.71875 410 55 C 409.945312 42.816406 409.945312 30.921875 410 19.316406 C 410.332031 16.25 410.332031 13.144531 410 10 \" transform=\"matrix(-1,0,0,1,520,0)\"/>\n",
       "</g>\n",
       "</svg>"
      ],
      "text/plain": [
       "<IPython.core.display.SVG object>"
      ]
     },
     "execution_count": 3,
     "metadata": {},
     "output_type": "execute_result"
    }
   ],
   "source": [
    "IPython.display.SVG(data=display_image(natural_lines.demo, 600, 105).getvalue())"
   ]
  },
  {
   "cell_type": "code",
   "execution_count": 4,
   "metadata": {},
   "outputs": [
    {
     "data": {
      "image/svg+xml": [
       "<svg xmlns=\"http://www.w3.org/2000/svg\" xmlns:xlink=\"http://www.w3.org/1999/xlink\" width=\"400pt\" height=\"110pt\" viewBox=\"0 0 400 110\" version=\"1.1\">\n",
       "<g id=\"surface5\">\n",
       "<path style=\"fill:none;stroke-width:2;stroke-linecap:butt;stroke-linejoin:miter;stroke:rgb(0%,0%,0%);stroke-opacity:1;stroke-miterlimit:10;\" d=\"M 21.476562 81.90625 C 22.484375 80.714844 22.484375 80.714844 21.476562 81.90625 C 21.582031 78.382812 21.703125 75.238281 21.839844 72.46875 C 23.78125 60.589844 24.242188 48.542969 23.21875 36.332031 C 22.648438 24.789062 23.109375 12.742188 24.601562 0.195312 C 24.074219 -2.949219 24.195312 -6.09375 24.964844 -9.238281 \"/>\n",
       "<path style=\"fill:none;stroke-width:2;stroke-linecap:butt;stroke-linejoin:miter;stroke:rgb(0%,0%,0%);stroke-opacity:1;stroke-miterlimit:10;\" d=\"M 43.660156 85.347656 C 43.394531 84.8125 43.394531 84.8125 43.660156 85.347656 C 42.21875 81.613281 42.046875 78.476562 43.152344 75.941406 C 42.167969 62.429688 41.523438 50.417969 41.214844 39.902344 C 40.414062 28.074219 39.765625 16.0625 39.277344 3.867188 C 38.582031 0.0742188 38.410156 -3.0625 38.769531 -5.542969 \"/>\n",
       "<path style=\"fill:none;stroke-width:2;stroke-linecap:butt;stroke-linejoin:miter;stroke:rgb(0%,0%,0%);stroke-opacity:1;stroke-miterlimit:10;\" d=\"M 57.890625 88.15625 C 56.65625 89.238281 56.652344 89.238281 57.890625 88.15625 C 56.992188 83.75 57.007812 80.378906 57.9375 78.042969 C 58.089844 66.660156 58.148438 53.746094 58.117188 39.296875 C 56.703125 26.398438 56.765625 13.484375 58.296875 0.550781 C 59.6875 -2.308594 59.703125 -5.679688 58.34375 -9.566406 \"/>\n",
       "<path style=\"fill:none;stroke-width:2;stroke-linecap:butt;stroke-linejoin:miter;stroke:rgb(0%,0%,0%);stroke-opacity:1;stroke-miterlimit:10;\" d=\"M 79.496094 86.855469 C 81.082031 87.011719 81.085938 87.011719 79.496094 86.855469 C 78.421875 84.679688 78.578125 81.484375 79.96875 77.273438 C 82.035156 63.496094 82.636719 51.261719 81.777344 40.574219 C 80.859375 28.839844 81.460938 16.605469 83.585938 3.871094 C 85.347656 1.234375 85.503906 -1.957031 84.058594 -5.710938 \"/>\n",
       "<path style=\"fill:none;stroke-width:2;stroke-linecap:butt;stroke-linejoin:miter;stroke:rgb(0%,0%,0%);stroke-opacity:1;stroke-miterlimit:10;\" d=\"M 97.144531 85.070312 C 95.960938 84.933594 95.960938 84.933594 97.144531 85.070312 C 95.78125 83.175781 95.863281 80.167969 97.382812 76.050781 C 98.382812 64.988281 98.6875 53.472656 98.292969 41.5 C 99.011719 28.496094 99.3125 16.976562 99.199219 6.949219 C 98.5625 2.324219 98.644531 -0.679688 99.4375 -2.070312 \"/>\n",
       "</g>\n",
       "</svg>"
      ],
      "text/plain": [
       "<IPython.core.display.SVG object>"
      ]
     },
     "execution_count": 4,
     "metadata": {},
     "output_type": "execute_result"
    }
   ],
   "source": [
    "IPython.display.SVG(data=display_image(hatching.demo, 400, 110).getvalue())"
   ]
  },
  {
   "cell_type": "code",
   "execution_count": null,
   "metadata": {},
   "outputs": [],
   "source": []
  }
 ],
 "metadata": {
  "kernelspec": {
   "display_name": "Python 3",
   "language": "python",
   "name": "python3"
  },
  "language_info": {
   "codemirror_mode": {
    "name": "ipython",
    "version": 3
   },
   "file_extension": ".py",
   "mimetype": "text/x-python",
   "name": "python",
   "nbconvert_exporter": "python",
   "pygments_lexer": "ipython3",
   "version": "3.8.1"
  }
 },
 "nbformat": 4,
 "nbformat_minor": 4
}
