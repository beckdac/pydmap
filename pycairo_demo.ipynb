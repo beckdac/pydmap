{
 "cells": [
  {
   "cell_type": "code",
   "execution_count": 1,
   "metadata": {},
   "outputs": [],
   "source": [
    "from io import BytesIO\n",
    "\n",
    "import cairo\n",
    "import IPython.display\n",
    "\n",
    "from pydmap import natural_lines, hatching"
   ]
  },
  {
   "cell_type": "code",
   "execution_count": 2,
   "metadata": {},
   "outputs": [],
   "source": [
    "def display_image(render_func, xsize, ysize):\n",
    "    svgio = BytesIO()\n",
    "    with cairo.SVGSurface(svgio, xsize, ysize) as surface:\n",
    "        context = cairo.Context(surface)\n",
    "        render_func(context)\n",
    "    return svgio"
   ]
  },
  {
   "cell_type": "code",
   "execution_count": 3,
   "metadata": {},
   "outputs": [
    {
     "data": {
      "image/svg+xml": [
       "<svg xmlns=\"http://www.w3.org/2000/svg\" xmlns:xlink=\"http://www.w3.org/1999/xlink\" width=\"600pt\" height=\"105pt\" viewBox=\"0 0 600 105\" version=\"1.1\">\n",
       "<g id=\"surface1\">\n",
       "<path style=\"fill:none;stroke-width:2;stroke-linecap:butt;stroke-linejoin:miter;stroke:rgb(0%,0%,0%);stroke-opacity:1;stroke-miterlimit:10;\" d=\"M 10 10 C 10.71875 9.894531 10.71875 9.894531 10 10 C 10.34375 8.359375 13.449219 8.359375 19.316406 10 C 32.882812 9.140625 44.777344 9.140625 55 10 C 69.046875 9.109375 80.941406 9.109375 90.683594 10 C 95.074219 9.460938 98.179688 9.460938 100 10 \" transform=\"matrix(-1,0,0,1,520,0)\"/>\n",
       "<path style=\"fill:none;stroke-width:2;stroke-linecap:butt;stroke-linejoin:miter;stroke:rgb(0%,0%,0%);stroke-opacity:1;stroke-miterlimit:10;\" d=\"M 100 10 C 99.910156 8.832031 99.910156 8.832031 100 10 C 102.148438 16.355469 102.148438 19.460938 100 19.316406 C 96.925781 32.222656 96.925781 44.117188 100 55 C 102.449219 65.097656 102.449219 76.992188 100 90.683594 C 103.15625 95.992188 103.15625 99.097656 100 100 \" transform=\"matrix(-1,0,0,1,520,0)\"/>\n",
       "<path style=\"fill:none;stroke-width:2;stroke-linecap:butt;stroke-linejoin:miter;stroke:rgb(0%,0%,0%);stroke-opacity:1;stroke-miterlimit:10;\" d=\"M 100 100 C 97.035156 102.496094 97.035156 102.496094 100 100 C 98.214844 97.570312 95.109375 97.570312 90.683594 100 C 76.988281 98.132812 65.09375 98.132812 55 100 C 45.773438 97.714844 33.878906 97.714844 19.316406 100 C 16.113281 98.582031 13.007812 98.582031 10 100 \" transform=\"matrix(-1,0,0,1,520,0)\"/>\n",
       "<path style=\"fill:none;stroke-width:2;stroke-linecap:butt;stroke-linejoin:miter;stroke:rgb(0%,0%,0%);stroke-opacity:1;stroke-miterlimit:10;\" d=\"M 10 100 C 9.835938 103.203125 9.835938 103.203125 10 100 C 9.996094 93.621094 9.996094 90.515625 10 90.683594 C 7.890625 75.917969 7.890625 64.023438 10 55 C 10.578125 40.601562 10.578125 28.707031 10 19.316406 C 6.683594 13.957031 6.683594 10.851562 10 10 \" transform=\"matrix(-1,0,0,1,520,0)\"/>\n",
       "<path style=\"fill:none;stroke-width:2;stroke-linecap:butt;stroke-linejoin:miter;stroke:rgb(0%,0%,0%);stroke-opacity:1;stroke-miterlimit:10;\" d=\"M 110 10 C 112.179688 9.839844 112.179688 9.839844 110 10 C 112.625 11.382812 115.730469 11.382812 119.316406 10 C 131.019531 9.054688 142.914062 9.054688 155 10 C 168.851562 8.195312 180.746094 8.195312 190.683594 10 C 193.070312 9.519531 196.175781 9.519531 200 10 \" transform=\"matrix(-1,0,0,1,520,0)\"/>\n",
       "<path style=\"fill:none;stroke-width:2;stroke-linecap:butt;stroke-linejoin:miter;stroke:rgb(0%,0%,0%);stroke-opacity:1;stroke-miterlimit:10;\" d=\"M 200 10 C 198.734375 10.03125 198.734375 10.03125 200 10 C 199.652344 14.433594 199.652344 17.539062 200 19.316406 C 198.40625 31.355469 198.40625 43.25 200 55 C 201.347656 66.199219 201.347656 78.09375 200 90.683594 C 202.113281 95.933594 202.113281 99.039062 200 100 \" transform=\"matrix(-1,0,0,1,520,0)\"/>\n",
       "<path style=\"fill:none;stroke-width:2;stroke-linecap:butt;stroke-linejoin:miter;stroke:rgb(0%,0%,0%);stroke-opacity:1;stroke-miterlimit:10;\" d=\"M 200 100 C 200.101562 100.433594 200.101562 100.433594 200 100 C 195.671875 101.484375 192.566406 101.484375 190.683594 100 C 177.511719 98.914062 165.617188 98.914062 155 100 C 143.371094 100.414062 131.476562 100.414062 119.316406 100 C 115.253906 100.496094 112.148438 100.496094 110 100 \" transform=\"matrix(-1,0,0,1,520,0)\"/>\n",
       "<path style=\"fill:none;stroke-width:2;stroke-linecap:butt;stroke-linejoin:miter;stroke:rgb(0%,0%,0%);stroke-opacity:1;stroke-miterlimit:10;\" d=\"M 110 100 C 110.179688 98.691406 110.179688 98.691406 110 100 C 108.628906 97.90625 108.628906 94.800781 110 90.683594 C 111.601562 77.835938 111.601562 65.941406 110 55 C 112.320312 44.597656 112.320312 32.703125 110 19.316406 C 109.515625 15.480469 109.515625 12.375 110 10 \" transform=\"matrix(-1,0,0,1,520,0)\"/>\n",
       "<path style=\"fill:none;stroke-width:2;stroke-linecap:butt;stroke-linejoin:miter;stroke:rgb(0%,0%,0%);stroke-opacity:1;stroke-miterlimit:10;\" d=\"M 210 10 C 208.460938 11.019531 208.460938 11.019531 210 10 C 214.164062 9.703125 217.269531 9.703125 219.316406 10 C 232.40625 10.460938 244.300781 10.460938 255 10 C 267.476562 9.550781 279.371094 9.550781 290.683594 10 C 292.988281 9.519531 296.09375 9.519531 300 10 \" transform=\"matrix(-1,0,0,1,520,0)\"/>\n",
       "<path style=\"fill:none;stroke-width:2;stroke-linecap:butt;stroke-linejoin:miter;stroke:rgb(0%,0%,0%);stroke-opacity:1;stroke-miterlimit:10;\" d=\"M 300 10 C 301.199219 9.511719 301.199219 9.511719 300 10 C 298.875 11.621094 298.875 14.726562 300 19.316406 C 299.558594 30.207031 299.558594 42.101562 300 55 C 299.8125 66.703125 299.8125 78.597656 300 90.683594 C 299.828125 94.226562 299.828125 97.332031 300 100 \" transform=\"matrix(-1,0,0,1,520,0)\"/>\n",
       "<path style=\"fill:none;stroke-width:2;stroke-linecap:butt;stroke-linejoin:miter;stroke:rgb(0%,0%,0%);stroke-opacity:1;stroke-miterlimit:10;\" d=\"M 300 100 C 299.628906 99.835938 299.628906 99.835938 300 100 C 295.945312 100.992188 292.839844 100.992188 290.683594 100 C 279.933594 100.460938 268.039062 100.460938 255 100 C 242.789062 101.496094 230.894531 101.496094 219.316406 100 C 215.300781 98.878906 212.195312 98.878906 210 100 \" transform=\"matrix(-1,0,0,1,520,0)\"/>\n",
       "<path style=\"fill:none;stroke-width:2;stroke-linecap:butt;stroke-linejoin:miter;stroke:rgb(0%,0%,0%);stroke-opacity:1;stroke-miterlimit:10;\" d=\"M 210 100 C 211.507812 98.867188 211.507812 98.867188 210 100 C 210.964844 96.964844 210.964844 93.859375 210 90.683594 C 208.457031 78.5 208.457031 66.605469 210 55 C 209.027344 43.4375 209.027344 31.542969 210 19.316406 C 211.484375 16.148438 211.484375 13.042969 210 10 \" transform=\"matrix(-1,0,0,1,520,0)\"/>\n",
       "<path style=\"fill:none;stroke-width:2;stroke-linecap:butt;stroke-linejoin:miter;stroke:rgb(0%,0%,0%);stroke-opacity:1;stroke-miterlimit:10;\" d=\"M 310 10 C 310.25 10.25 310.25 10.25 310 10 C 313.140625 9.78125 316.246094 9.78125 319.316406 10 C 331.242188 9.886719 343.136719 9.886719 355 10 C 366.859375 9.683594 378.753906 9.683594 390.683594 10 C 393.726562 10.144531 396.832031 10.144531 400 10 \" transform=\"matrix(-1,0,0,1,520,0)\"/>\n",
       "<path style=\"fill:none;stroke-width:2;stroke-linecap:butt;stroke-linejoin:miter;stroke:rgb(0%,0%,0%);stroke-opacity:1;stroke-miterlimit:10;\" d=\"M 400 10 C 399.449219 10.535156 399.449219 10.535156 400 10 C 399.714844 13.441406 399.714844 16.546875 400 19.316406 C 400.65625 31.714844 400.65625 43.609375 400 55 C 399.503906 66.539062 399.503906 78.433594 400 90.683594 C 400.09375 93.71875 400.09375 96.824219 400 100 \" transform=\"matrix(-1,0,0,1,520,0)\"/>\n",
       "<path style=\"fill:none;stroke-width:2;stroke-linecap:butt;stroke-linejoin:miter;stroke:rgb(0%,0%,0%);stroke-opacity:1;stroke-miterlimit:10;\" d=\"M 400 100 C 400.253906 100.582031 400.253906 100.582031 400 100 C 397.332031 99.859375 394.226562 99.859375 390.683594 100 C 379.285156 100.015625 367.390625 100.015625 355 100 C 342.945312 99.761719 331.050781 99.761719 319.316406 100 C 315.921875 99.605469 312.816406 99.605469 310 100 \" transform=\"matrix(-1,0,0,1,520,0)\"/>\n",
       "<path style=\"fill:none;stroke-width:2;stroke-linecap:butt;stroke-linejoin:miter;stroke:rgb(0%,0%,0%);stroke-opacity:1;stroke-miterlimit:10;\" d=\"M 310 100 C 309.636719 100.050781 309.636719 100.050781 310 100 C 310.082031 96.976562 310.082031 93.871094 310 90.683594 C 310.378906 79.339844 310.378906 67.445312 310 55 C 310.480469 42.695312 310.480469 30.800781 310 19.316406 C 310.523438 16.503906 310.523438 13.398438 310 10 \" transform=\"matrix(-1,0,0,1,520,0)\"/>\n",
       "<path style=\"fill:none;stroke-width:2;stroke-linecap:butt;stroke-linejoin:miter;stroke:rgb(0%,0%,0%);stroke-opacity:1;stroke-miterlimit:10;\" d=\"M 410 10 C 409.707031 9.851562 409.707031 9.851562 410 10 C 413.183594 10.109375 416.289062 10.109375 419.316406 10 C 431.492188 9.78125 443.386719 9.78125 455 10 C 467.210938 9.757812 479.105469 9.757812 490.683594 10 C 493.75 9.824219 496.855469 9.824219 500 10 \" transform=\"matrix(-1,0,0,1,520,0)\"/>\n",
       "<path style=\"fill:none;stroke-width:2;stroke-linecap:butt;stroke-linejoin:miter;stroke:rgb(0%,0%,0%);stroke-opacity:1;stroke-miterlimit:10;\" d=\"M 500 10 C 499.695312 10.085938 499.695312 10.085938 500 10 C 499.945312 13.070312 499.945312 16.175781 500 19.316406 C 499.792969 31.273438 499.792969 43.167969 500 55 C 500.003906 66.636719 500.003906 78.53125 500 90.683594 C 500.25 93.53125 500.25 96.636719 500 100 \" transform=\"matrix(-1,0,0,1,520,0)\"/>\n",
       "<path style=\"fill:none;stroke-width:2;stroke-linecap:butt;stroke-linejoin:miter;stroke:rgb(0%,0%,0%);stroke-opacity:1;stroke-miterlimit:10;\" d=\"M 500 100 C 500.140625 99.886719 500.140625 99.886719 500 100 C 496.851562 100.164062 493.746094 100.164062 490.683594 100 C 478.859375 100.222656 466.964844 100.222656 455 100 C 443.058594 100.035156 431.164062 100.035156 419.316406 100 C 416.265625 100.277344 413.160156 100.277344 410 100 \" transform=\"matrix(-1,0,0,1,520,0)\"/>\n",
       "<path style=\"fill:none;stroke-width:2;stroke-linecap:butt;stroke-linejoin:miter;stroke:rgb(0%,0%,0%);stroke-opacity:1;stroke-miterlimit:10;\" d=\"M 410 100 C 410.21875 100.242188 410.21875 100.242188 410 100 C 409.773438 96.878906 409.773438 93.773438 410 90.683594 C 410.257812 78.625 410.257812 66.730469 410 55 C 410.097656 43.226562 410.097656 31.332031 410 19.316406 C 409.902344 16.53125 409.902344 13.425781 410 10 \" transform=\"matrix(-1,0,0,1,520,0)\"/>\n",
       "</g>\n",
       "</svg>"
      ],
      "text/plain": [
       "<IPython.core.display.SVG object>"
      ]
     },
     "execution_count": 3,
     "metadata": {},
     "output_type": "execute_result"
    }
   ],
   "source": [
    "IPython.display.SVG(data=display_image(natural_lines.demo, 600, 105).getvalue())"
   ]
  },
  {
   "cell_type": "code",
   "execution_count": 4,
   "metadata": {},
   "outputs": [
    {
     "name": "stdout",
     "output_type": "stream",
     "text": [
      "122.13878543215984, 97.31333584825721 -> 117.85235783171724, 189.6245534563934\n",
      "142.15958749158673, 91.22429983110864 -> 139.25155631567185, 186.24906280587928\n",
      "156.45763196628798, 92.39273573950288 -> 158.82182997740946, 186.0773867902677\n",
      "182.9952051344032, 91.62358211661777 -> 182.24148342295783, 188.1283074891399\n",
      "201.92723363895144, 96.99428818855549 -> 201.26592214439555, 180.70245829375614\n"
     ]
    },
    {
     "data": {
      "image/svg+xml": [
       "<svg xmlns=\"http://www.w3.org/2000/svg\" xmlns:xlink=\"http://www.w3.org/1999/xlink\" width=\"400pt\" height=\"400pt\" viewBox=\"0 0 400 400\" version=\"1.1\">\n",
       "<g id=\"surface5\">\n",
       "<path style=\"fill:none;stroke-width:2;stroke-linecap:butt;stroke-linejoin:miter;stroke:rgb(0%,0%,0%);stroke-opacity:1;stroke-miterlimit:10;\" d=\"M 122.140625 97.3125 C 120.632812 97.15625 120.632812 97.15625 122.140625 97.3125 C 119.421875 97.210938 119.273438 100.398438 121.695312 106.867188 C 121.339844 117.601562 120.773438 129.804688 119.996094 143.46875 C 122.203125 158.453125 121.636719 170.652344 118.296875 180.070312 C 115.480469 180.554688 115.332031 183.738281 117.851562 189.625 \" transform=\"matrix(-1,0,0,1,400,100)\"/>\n",
       "<path style=\"fill:none;stroke-width:2;stroke-linecap:butt;stroke-linejoin:miter;stroke:rgb(0%,0%,0%);stroke-opacity:1;stroke-miterlimit:10;\" d=\"M 142.160156 91.222656 C 141.171875 88.933594 141.171875 88.9375 142.160156 91.222656 C 144.144531 95.152344 144.042969 98.429688 141.859375 101.0625 C 143.042969 110.589844 142.660156 123.144531 140.707031 138.738281 C 143.28125 148.289062 142.894531 160.847656 139.550781 176.414062 C 141.492188 182.40625 141.394531 185.6875 139.25 186.25 \" transform=\"matrix(-1,0,0,1,400,100)\"/>\n",
       "<path style=\"fill:none;stroke-width:2;stroke-linecap:butt;stroke-linejoin:miter;stroke:rgb(0%,0%,0%);stroke-opacity:1;stroke-miterlimit:10;\" d=\"M 156.457031 92.394531 C 153.820312 91.21875 153.820312 91.214844 156.457031 92.394531 C 158.089844 94.734375 158.171875 97.96875 156.703125 102.089844 C 154.613281 116.460938 154.925781 128.839844 157.640625 139.234375 C 158.191406 152.675781 158.503906 165.058594 158.578125 176.378906 C 160.535156 180.347656 160.617188 183.582031 158.820312 186.078125 \" transform=\"matrix(-1,0,0,1,400,100)\"/>\n",
       "<path style=\"fill:none;stroke-width:2;stroke-linecap:butt;stroke-linejoin:miter;stroke:rgb(0%,0%,0%);stroke-opacity:1;stroke-miterlimit:10;\" d=\"M 182.996094 91.625 C 181.148438 92.222656 181.148438 92.222656 182.996094 91.625 C 184.101562 94.578125 184.074219 97.910156 182.917969 101.613281 C 184.683594 111.382812 184.582031 124.136719 182.617188 139.875 C 181.21875 153.601562 181.121094 166.355469 182.320312 178.136719 C 182.859375 184.304688 182.835938 187.636719 182.242188 188.128906 \" transform=\"matrix(-1,0,0,1,400,100)\"/>\n",
       "<path style=\"fill:none;stroke-width:2;stroke-linecap:butt;stroke-linejoin:miter;stroke:rgb(0%,0%,0%);stroke-opacity:1;stroke-miterlimit:10;\" d=\"M 201.925781 96.996094 C 203.796875 94.148438 203.796875 94.144531 201.925781 96.996094 C 201.449219 98.535156 201.425781 101.421875 201.859375 105.660156 C 202.601562 118.878906 202.511719 129.941406 201.597656 138.847656 C 203.386719 147.160156 203.300781 158.226562 201.335938 172.039062 C 198.179688 176.453125 198.15625 179.34375 201.265625 180.703125 \" transform=\"matrix(-1,0,0,1,400,100)\"/>\n",
       "</g>\n",
       "</svg>"
      ],
      "text/plain": [
       "<IPython.core.display.SVG object>"
      ]
     },
     "execution_count": 4,
     "metadata": {},
     "output_type": "execute_result"
    }
   ],
   "source": [
    "IPython.display.SVG(data=display_image(hatching.demo, 400, 400).getvalue())"
   ]
  },
  {
   "cell_type": "code",
   "execution_count": null,
   "metadata": {},
   "outputs": [],
   "source": []
  },
  {
   "cell_type": "code",
   "execution_count": null,
   "metadata": {},
   "outputs": [],
   "source": []
  }
 ],
 "metadata": {
  "kernelspec": {
   "display_name": "Python 3",
   "language": "python",
   "name": "python3"
  },
  "language_info": {
   "codemirror_mode": {
    "name": "ipython",
    "version": 3
   },
   "file_extension": ".py",
   "mimetype": "text/x-python",
   "name": "python",
   "nbconvert_exporter": "python",
   "pygments_lexer": "ipython3",
   "version": "3.8.1"
  }
 },
 "nbformat": 4,
 "nbformat_minor": 4
}
