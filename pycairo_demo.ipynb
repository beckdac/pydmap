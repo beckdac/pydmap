{
 "cells": [
  {
   "cell_type": "code",
   "execution_count": 4,
   "metadata": {},
   "outputs": [],
   "source": [
    "from io import BytesIO\n",
    "\n",
    "import cairo\n",
    "import IPython.display\n",
    "\n",
    "from pydmap import natural_lines"
   ]
  },
  {
   "cell_type": "code",
   "execution_count": 5,
   "metadata": {},
   "outputs": [],
   "source": [
    "def display_image(render_func, xsize, ysize):\n",
    "    svgio = BytesIO()\n",
    "    with cairo.SVGSurface(svgio, xsize, ysize) as surface:\n",
    "        context = cairo.Context(surface)\n",
    "        render_func(context)\n",
    "    return svgio"
   ]
  },
  {
   "cell_type": "code",
   "execution_count": 6,
   "metadata": {},
   "outputs": [
    {
     "data": {
      "image/svg+xml": [
       "<svg xmlns=\"http://www.w3.org/2000/svg\" xmlns:xlink=\"http://www.w3.org/1999/xlink\" width=\"600pt\" height=\"105pt\" viewBox=\"0 0 600 105\" version=\"1.1\">\n",
       "<g id=\"surface5\">\n",
       "<path style=\"fill:none;stroke-width:2;stroke-linecap:butt;stroke-linejoin:miter;stroke:rgb(0%,0%,0%);stroke-opacity:1;stroke-miterlimit:10;\" d=\"M 10 10 C 7.953125 9.640625 7.953125 9.640625 10 10 C 14.054688 12.898438 17.160156 12.898438 19.316406 10 C 34.019531 8.636719 45.914062 8.636719 55 10 C 69.691406 10.699219 81.585938 10.699219 90.683594 10 C 95.378906 12.019531 98.484375 12.019531 100 10 \" transform=\"matrix(-1,0,0,1,520,0)\"/>\n",
       "<path style=\"fill:none;stroke-width:2;stroke-linecap:butt;stroke-linejoin:miter;stroke:rgb(0%,0%,0%);stroke-opacity:1;stroke-miterlimit:10;\" d=\"M 100 10 C 98.527344 12.632812 98.527344 12.632812 100 10 C 97.726562 10.890625 97.726562 13.996094 100 19.316406 C 101.410156 30.164062 101.410156 42.058594 100 55 C 98.566406 66.917969 98.566406 78.8125 100 90.683594 C 99.996094 92.546875 99.996094 95.652344 100 100 \" transform=\"matrix(-1,0,0,1,520,0)\"/>\n",
       "<path style=\"fill:none;stroke-width:2;stroke-linecap:butt;stroke-linejoin:miter;stroke:rgb(0%,0%,0%);stroke-opacity:1;stroke-miterlimit:10;\" d=\"M 100 100 C 101.351562 98.515625 101.351562 98.515625 100 100 C 99.25 102.152344 96.144531 102.152344 90.683594 100 C 80.222656 101.46875 68.328125 101.46875 55 100 C 45.804688 100.675781 33.910156 100.675781 19.316406 100 C 13.339844 99.566406 10.234375 99.566406 10 100 \" transform=\"matrix(-1,0,0,1,520,0)\"/>\n",
       "<path style=\"fill:none;stroke-width:2;stroke-linecap:butt;stroke-linejoin:miter;stroke:rgb(0%,0%,0%);stroke-opacity:1;stroke-miterlimit:10;\" d=\"M 10 100 C 11.832031 99.636719 11.832031 99.636719 10 100 C 6.914062 97.863281 6.914062 94.757812 10 90.683594 C 8.40625 78.179688 8.40625 66.285156 10 55 C 12.882812 42.855469 12.882812 30.960938 10 19.316406 C 7.023438 15.902344 7.023438 12.796875 10 10 \" transform=\"matrix(-1,0,0,1,520,0)\"/>\n",
       "<path style=\"fill:none;stroke-width:2;stroke-linecap:butt;stroke-linejoin:miter;stroke:rgb(0%,0%,0%);stroke-opacity:1;stroke-miterlimit:10;\" d=\"M 110 10 C 108.546875 8.921875 108.546875 8.921875 110 10 C 113.53125 9.277344 116.636719 9.277344 119.316406 10 C 131.796875 11.308594 143.691406 11.308594 155 10 C 168.925781 11.097656 180.820312 11.097656 190.683594 10 C 194.214844 8.566406 197.320312 8.566406 200 10 \" transform=\"matrix(-1,0,0,1,520,0)\"/>\n",
       "<path style=\"fill:none;stroke-width:2;stroke-linecap:butt;stroke-linejoin:miter;stroke:rgb(0%,0%,0%);stroke-opacity:1;stroke-miterlimit:10;\" d=\"M 200 10 C 199.636719 8.726562 199.636719 8.726562 200 10 C 200.113281 12.039062 200.113281 15.144531 200 19.316406 C 200.414062 30.746094 200.414062 42.640625 200 55 C 199.125 66.25 199.125 78.144531 200 90.683594 C 199.207031 93.164062 199.207031 96.269531 200 100 \" transform=\"matrix(-1,0,0,1,520,0)\"/>\n",
       "<path style=\"fill:none;stroke-width:2;stroke-linecap:butt;stroke-linejoin:miter;stroke:rgb(0%,0%,0%);stroke-opacity:1;stroke-miterlimit:10;\" d=\"M 200 100 C 198.929688 100.339844 198.929688 100.339844 200 100 C 194.589844 100.929688 191.484375 100.929688 190.683594 100 C 180.679688 98 168.785156 98 155 100 C 141.875 102.234375 129.980469 102.234375 119.316406 100 C 116 99.164062 112.894531 99.164062 110 100 \" transform=\"matrix(-1,0,0,1,520,0)\"/>\n",
       "<path style=\"fill:none;stroke-width:2;stroke-linecap:butt;stroke-linejoin:miter;stroke:rgb(0%,0%,0%);stroke-opacity:1;stroke-miterlimit:10;\" d=\"M 110 100 C 109.898438 99.519531 109.898438 99.519531 110 100 C 110.074219 99.191406 110.074219 96.085938 110 90.683594 C 109.328125 78.320312 109.328125 66.425781 110 55 C 110.175781 45.128906 110.175781 33.234375 110 19.316406 C 109.308594 17.742188 109.308594 14.636719 110 10 \" transform=\"matrix(-1,0,0,1,520,0)\"/>\n",
       "<path style=\"fill:none;stroke-width:2;stroke-linecap:butt;stroke-linejoin:miter;stroke:rgb(0%,0%,0%);stroke-opacity:1;stroke-miterlimit:10;\" d=\"M 210 10 C 209.511719 10.824219 209.511719 10.824219 210 10 C 214.648438 11.5 217.753906 11.5 219.316406 10 C 232.554688 8.675781 244.449219 8.675781 255 10 C 267.261719 8.617188 279.15625 8.617188 290.683594 10 C 294.246094 10.746094 297.351562 10.746094 300 10 \" transform=\"matrix(-1,0,0,1,520,0)\"/>\n",
       "<path style=\"fill:none;stroke-width:2;stroke-linecap:butt;stroke-linejoin:miter;stroke:rgb(0%,0%,0%);stroke-opacity:1;stroke-miterlimit:10;\" d=\"M 300 10 C 300.921875 11.332031 300.921875 11.332031 300 10 C 299.40625 14.320312 299.40625 17.425781 300 19.316406 C 300.042969 32.0625 300.042969 43.957031 300 55 C 298.59375 66.875 298.59375 78.769531 300 90.683594 C 301.296875 92.832031 301.296875 95.9375 300 100 \" transform=\"matrix(-1,0,0,1,520,0)\"/>\n",
       "<path style=\"fill:none;stroke-width:2;stroke-linecap:butt;stroke-linejoin:miter;stroke:rgb(0%,0%,0%);stroke-opacity:1;stroke-miterlimit:10;\" d=\"M 300 100 C 299.789062 98.625 299.789062 98.625 300 100 C 295.625 98.425781 292.519531 98.425781 290.683594 100 C 278.257812 98.90625 266.363281 98.90625 255 100 C 241.949219 99.695312 230.054688 99.695312 219.316406 100 C 216.019531 100.78125 212.914062 100.78125 210 100 \" transform=\"matrix(-1,0,0,1,520,0)\"/>\n",
       "<path style=\"fill:none;stroke-width:2;stroke-linecap:butt;stroke-linejoin:miter;stroke:rgb(0%,0%,0%);stroke-opacity:1;stroke-miterlimit:10;\" d=\"M 210 100 C 209.953125 99.566406 209.953125 99.566406 210 100 C 210.136719 96.851562 210.136719 93.746094 210 90.683594 C 210.851562 77.960938 210.851562 66.066406 210 55 C 211.183594 43.359375 211.183594 31.464844 210 19.316406 C 210.769531 15.828125 210.769531 12.722656 210 10 \" transform=\"matrix(-1,0,0,1,520,0)\"/>\n",
       "<path style=\"fill:none;stroke-width:2;stroke-linecap:butt;stroke-linejoin:miter;stroke:rgb(0%,0%,0%);stroke-opacity:1;stroke-miterlimit:10;\" d=\"M 310 10 C 309.859375 9.335938 309.859375 9.335938 310 10 C 313.746094 10.121094 316.851562 10.121094 319.316406 10 C 331.3125 9.894531 343.207031 9.894531 355 10 C 366.796875 10.128906 378.691406 10.128906 390.683594 10 C 393.476562 9.660156 396.582031 9.660156 400 10 \" transform=\"matrix(-1,0,0,1,520,0)\"/>\n",
       "<path style=\"fill:none;stroke-width:2;stroke-linecap:butt;stroke-linejoin:miter;stroke:rgb(0%,0%,0%);stroke-opacity:1;stroke-miterlimit:10;\" d=\"M 400 10 C 399.824219 9.976562 399.824219 9.976562 400 10 C 400.457031 12.640625 400.457031 15.746094 400 19.316406 C 400.242188 30.96875 400.242188 42.863281 400 55 C 400.492188 67.210938 400.492188 79.105469 400 90.683594 C 400.402344 93.769531 400.402344 96.875 400 100 \" transform=\"matrix(-1,0,0,1,520,0)\"/>\n",
       "<path style=\"fill:none;stroke-width:2;stroke-linecap:butt;stroke-linejoin:miter;stroke:rgb(0%,0%,0%);stroke-opacity:1;stroke-miterlimit:10;\" d=\"M 400 100 C 399.847656 100.144531 399.847656 100.144531 400 100 C 397.332031 99.457031 394.226562 99.457031 390.683594 100 C 378.339844 100.246094 366.445312 100.246094 355 100 C 343.515625 100.375 331.621094 100.375 319.316406 100 C 315.820312 100.378906 312.714844 100.378906 310 100 \" transform=\"matrix(-1,0,0,1,520,0)\"/>\n",
       "<path style=\"fill:none;stroke-width:2;stroke-linecap:butt;stroke-linejoin:miter;stroke:rgb(0%,0%,0%);stroke-opacity:1;stroke-miterlimit:10;\" d=\"M 310 100 C 310.09375 99.40625 310.09375 99.40625 310 100 C 310.109375 96.675781 310.109375 93.570312 310 90.683594 C 309.351562 79.148438 309.351562 67.253906 310 55 C 310.394531 43.25 310.394531 31.355469 310 19.316406 C 310.246094 15.800781 310.246094 12.695312 310 10 \" transform=\"matrix(-1,0,0,1,520,0)\"/>\n",
       "<path style=\"fill:none;stroke-width:2;stroke-linecap:butt;stroke-linejoin:miter;stroke:rgb(0%,0%,0%);stroke-opacity:1;stroke-miterlimit:10;\" d=\"M 410 10 C 410.246094 10.308594 410.246094 10.308594 410 10 C 413.171875 10.066406 416.277344 10.066406 419.316406 10 C 431.496094 10.304688 443.390625 10.304688 455 10 C 466.882812 9.996094 478.777344 9.996094 490.683594 10 C 493.59375 9.824219 496.699219 9.824219 500 10 \" transform=\"matrix(-1,0,0,1,520,0)\"/>\n",
       "<path style=\"fill:none;stroke-width:2;stroke-linecap:butt;stroke-linejoin:miter;stroke:rgb(0%,0%,0%);stroke-opacity:1;stroke-miterlimit:10;\" d=\"M 500 10 C 500.152344 10.027344 500.152344 10.027344 500 10 C 499.925781 12.882812 499.925781 15.988281 500 19.316406 C 500.199219 31.433594 500.199219 43.328125 500 55 C 500.261719 67.082031 500.261719 78.976562 500 90.683594 C 500.164062 93.949219 500.164062 97.054688 500 100 \" transform=\"matrix(-1,0,0,1,520,0)\"/>\n",
       "<path style=\"fill:none;stroke-width:2;stroke-linecap:butt;stroke-linejoin:miter;stroke:rgb(0%,0%,0%);stroke-opacity:1;stroke-miterlimit:10;\" d=\"M 500 100 C 499.929688 100.109375 499.929688 100.109375 500 100 C 497.0625 99.890625 493.957031 99.890625 490.683594 100 C 478.898438 100.171875 467.003906 100.171875 455 100 C 443.351562 100.0625 431.457031 100.0625 419.316406 100 C 416.386719 100.253906 413.28125 100.253906 410 100 \" transform=\"matrix(-1,0,0,1,520,0)\"/>\n",
       "<path style=\"fill:none;stroke-width:2;stroke-linecap:butt;stroke-linejoin:miter;stroke:rgb(0%,0%,0%);stroke-opacity:1;stroke-miterlimit:10;\" d=\"M 410 100 C 409.875 100.1875 409.875 100.1875 410 100 C 410.003906 96.867188 410.003906 93.761719 410 90.683594 C 410.289062 78.800781 410.289062 66.90625 410 55 C 409.699219 42.863281 409.699219 30.96875 410 19.316406 C 409.84375 16.21875 409.84375 13.113281 410 10 \" transform=\"matrix(-1,0,0,1,520,0)\"/>\n",
       "</g>\n",
       "</svg>"
      ],
      "text/plain": [
       "<IPython.core.display.SVG object>"
      ]
     },
     "execution_count": 6,
     "metadata": {},
     "output_type": "execute_result"
    }
   ],
   "source": [
    "IPython.display.SVG(data=display_image(natural_lines.demo, 600, 105).getvalue())"
   ]
  },
  {
   "cell_type": "code",
   "execution_count": null,
   "metadata": {},
   "outputs": [],
   "source": []
  },
  {
   "cell_type": "code",
   "execution_count": null,
   "metadata": {},
   "outputs": [],
   "source": []
  }
 ],
 "metadata": {
  "kernelspec": {
   "display_name": "Python 3",
   "language": "python",
   "name": "python3"
  },
  "language_info": {
   "codemirror_mode": {
    "name": "ipython",
    "version": 3
   },
   "file_extension": ".py",
   "mimetype": "text/x-python",
   "name": "python",
   "nbconvert_exporter": "python",
   "pygments_lexer": "ipython3",
   "version": "3.8.1"
  }
 },
 "nbformat": 4,
 "nbformat_minor": 4
}
