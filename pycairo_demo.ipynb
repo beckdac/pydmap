{
 "cells": [
  {
   "cell_type": "code",
   "execution_count": 1,
   "metadata": {},
   "outputs": [],
   "source": [
    "from io import BytesIO\n",
    "\n",
    "import cairo\n",
    "import IPython.display\n",
    "\n",
    "from pydmap import natural_lines"
   ]
  },
  {
   "cell_type": "code",
   "execution_count": 2,
   "metadata": {},
   "outputs": [],
   "source": [
    "def display_image(render_func, xsize, ysize):\n",
    "    svgio = BytesIO()\n",
    "    with cairo.SVGSurface(svgio, xsize, ysize) as surface:\n",
    "        context = cairo.Context(surface)\n",
    "        render_func(context)\n",
    "    return svgio"
   ]
  },
  {
   "cell_type": "code",
   "execution_count": 3,
   "metadata": {},
   "outputs": [
    {
     "data": {
      "image/svg+xml": [
       "<svg xmlns=\"http://www.w3.org/2000/svg\" xmlns:xlink=\"http://www.w3.org/1999/xlink\" width=\"600pt\" height=\"105pt\" viewBox=\"0 0 600 105\" version=\"1.1\">\n",
       "<g id=\"surface1\">\n",
       "<path style=\"fill:none;stroke-width:2;stroke-linecap:butt;stroke-linejoin:miter;stroke:rgb(70%,70%,70%);stroke-opacity:0.7;stroke-miterlimit:10;\" d=\"M 10 10 C 6.953125 7.457031 6.953125 7.457031 10 10 C 13.574219 8.726562 16.679688 8.726562 19.316406 10 C 32.074219 11.425781 43.96875 11.425781 55 10 C 69.929688 7.058594 81.824219 7.058594 90.683594 10 C 91.441406 11.683594 94.546875 11.683594 100 10 \" transform=\"matrix(-1,0,0,1,520,0)\"/>\n",
       "<path style=\"fill:none;stroke-width:2;stroke-linecap:butt;stroke-linejoin:miter;stroke:rgb(70%,70%,70%);stroke-opacity:0.7;stroke-miterlimit:10;\" d=\"M 100 10 C 101.199219 8.972656 101.199219 8.972656 100 10 C 101.679688 14.214844 101.679688 17.320312 100 19.316406 C 99.84375 34.390625 99.84375 46.285156 100 55 C 99.191406 69.164062 99.191406 81.058594 100 90.683594 C 100.097656 92.726562 100.097656 95.832031 100 100 \" transform=\"matrix(-1,0,0,1,520,0)\"/>\n",
       "<path style=\"fill:none;stroke-width:2;stroke-linecap:butt;stroke-linejoin:miter;stroke:rgb(70%,70%,70%);stroke-opacity:0.7;stroke-miterlimit:10;\" d=\"M 100 100 C 99.289062 100.484375 99.289062 100.484375 100 100 C 96.464844 97.265625 93.359375 97.265625 90.683594 100 C 80.507812 98.949219 68.613281 98.949219 55 100 C 43.875 100.300781 31.980469 100.300781 19.316406 100 C 12.976562 102.175781 9.871094 102.175781 10 100 \" transform=\"matrix(-1,0,0,1,520,0)\"/>\n",
       "<path style=\"fill:none;stroke-width:2;stroke-linecap:butt;stroke-linejoin:miter;stroke:rgb(70%,70%,70%);stroke-opacity:0.7;stroke-miterlimit:10;\" d=\"M 10 100 C 8.222656 97.242188 8.222656 97.242188 10 100 C 8.574219 96.535156 8.574219 93.429688 10 90.683594 C 9.925781 79.714844 9.925781 67.820312 10 55 C 9.46875 44.742188 9.46875 32.847656 10 19.316406 C 9.75 17.4375 9.75 14.332031 10 10 \" transform=\"matrix(-1,0,0,1,520,0)\"/>\n",
       "<path style=\"fill:none;stroke-width:2;stroke-linecap:butt;stroke-linejoin:miter;stroke:rgb(70%,70%,70%);stroke-opacity:0.7;stroke-miterlimit:10;\" d=\"M 110 10 C 108.96875 11.976562 108.96875 11.976562 110 10 C 115.09375 12.234375 118.199219 12.234375 119.316406 10 C 131.144531 8.664062 143.039062 8.664062 155 10 C 167.578125 7.988281 179.472656 7.988281 190.683594 10 C 196.082031 7.707031 199.1875 7.707031 200 10 \" transform=\"matrix(-1,0,0,1,520,0)\"/>\n",
       "<path style=\"fill:none;stroke-width:2;stroke-linecap:butt;stroke-linejoin:miter;stroke:rgb(70%,70%,70%);stroke-opacity:0.7;stroke-miterlimit:10;\" d=\"M 200 10 C 198.980469 12.21875 198.980469 12.21875 200 10 C 199.300781 15.371094 199.300781 18.476562 200 19.316406 C 200.890625 30.324219 200.890625 42.21875 200 55 C 199.695312 64.660156 199.695312 76.554688 200 90.683594 C 199.667969 94.621094 199.667969 97.726562 200 100 \" transform=\"matrix(-1,0,0,1,520,0)\"/>\n",
       "<path style=\"fill:none;stroke-width:2;stroke-linecap:butt;stroke-linejoin:miter;stroke:rgb(70%,70%,70%);stroke-opacity:0.7;stroke-miterlimit:10;\" d=\"M 200 100 C 201.769531 101.472656 201.769531 101.472656 200 100 C 197.105469 101.957031 194 101.957031 190.683594 100 C 177.46875 97.910156 165.574219 97.910156 155 100 C 142.976562 102 131.082031 102 119.316406 100 C 115.585938 99.101562 112.480469 99.101562 110 100 \" transform=\"matrix(-1,0,0,1,520,0)\"/>\n",
       "<path style=\"fill:none;stroke-width:2;stroke-linecap:butt;stroke-linejoin:miter;stroke:rgb(70%,70%,70%);stroke-opacity:0.7;stroke-miterlimit:10;\" d=\"M 110 100 C 108.359375 102.128906 108.359375 102.128906 110 100 C 111.3125 98.992188 111.3125 95.886719 110 90.683594 C 111.011719 80.496094 111.011719 68.601562 110 55 C 109.703125 44.515625 109.703125 32.621094 110 19.316406 C 109.332031 16.464844 109.332031 13.359375 110 10 \" transform=\"matrix(-1,0,0,1,520,0)\"/>\n",
       "<path style=\"fill:none;stroke-width:2;stroke-linecap:butt;stroke-linejoin:miter;stroke:rgb(70%,70%,70%);stroke-opacity:0.7;stroke-miterlimit:10;\" d=\"M 210 10 C 209.566406 9.960938 209.566406 9.960938 210 10 C 213.507812 11.582031 216.613281 11.582031 219.316406 10 C 229.890625 8.585938 241.785156 8.585938 255 10 C 266.714844 9.265625 278.609375 9.265625 290.683594 10 C 293.597656 10.78125 296.703125 10.78125 300 10 \" transform=\"matrix(-1,0,0,1,520,0)\"/>\n",
       "<path style=\"fill:none;stroke-width:2;stroke-linecap:butt;stroke-linejoin:miter;stroke:rgb(70%,70%,70%);stroke-opacity:0.7;stroke-miterlimit:10;\" d=\"M 300 10 C 298.507812 11.128906 298.507812 11.128906 300 10 C 298.984375 12.066406 298.984375 15.171875 300 19.316406 C 300.703125 29.699219 300.703125 41.59375 300 55 C 299.230469 67.574219 299.230469 79.46875 300 90.683594 C 300.917969 95.09375 300.917969 98.199219 300 100 \" transform=\"matrix(-1,0,0,1,520,0)\"/>\n",
       "<path style=\"fill:none;stroke-width:2;stroke-linecap:butt;stroke-linejoin:miter;stroke:rgb(70%,70%,70%);stroke-opacity:0.7;stroke-miterlimit:10;\" d=\"M 300 100 C 299.988281 98.753906 299.988281 98.753906 300 100 C 297.085938 100.800781 293.980469 100.800781 290.683594 100 C 279.230469 101.070312 267.335938 101.070312 255 100 C 242.007812 99.84375 230.113281 99.84375 219.316406 100 C 217.179688 101.433594 214.074219 101.433594 210 100 \" transform=\"matrix(-1,0,0,1,520,0)\"/>\n",
       "<path style=\"fill:none;stroke-width:2;stroke-linecap:butt;stroke-linejoin:miter;stroke:rgb(70%,70%,70%);stroke-opacity:0.7;stroke-miterlimit:10;\" d=\"M 210 100 C 211.121094 100.421875 211.121094 100.421875 210 100 C 210.652344 97.679688 210.652344 94.574219 210 90.683594 C 211.628906 78.335938 211.628906 66.441406 210 55 C 211.339844 41.816406 211.339844 29.921875 210 19.316406 C 209.28125 17.769531 209.28125 14.664062 210 10 \" transform=\"matrix(-1,0,0,1,520,0)\"/>\n",
       "<path style=\"fill:none;stroke-width:2;stroke-linecap:butt;stroke-linejoin:miter;stroke:rgb(70%,70%,70%);stroke-opacity:0.7;stroke-miterlimit:10;\" d=\"M 310 10 C 310.496094 10.257812 310.496094 10.257812 310 10 C 313.351562 9.773438 316.457031 9.773438 319.316406 10 C 331.378906 10.109375 343.273438 10.109375 355 10 C 366.488281 9.480469 378.382812 9.480469 390.683594 10 C 393.429688 10.351562 396.535156 10.351562 400 10 \" transform=\"matrix(-1,0,0,1,520,0)\"/>\n",
       "<path style=\"fill:none;stroke-width:2;stroke-linecap:butt;stroke-linejoin:miter;stroke:rgb(70%,70%,70%);stroke-opacity:0.7;stroke-miterlimit:10;\" d=\"M 400 10 C 399.375 10.484375 399.375 10.484375 400 10 C 400.230469 13.046875 400.230469 16.152344 400 19.316406 C 400.425781 31.164062 400.425781 43.058594 400 55 C 400.21875 67.160156 400.21875 79.054688 400 90.683594 C 399.714844 94.3125 399.714844 97.417969 400 100 \" transform=\"matrix(-1,0,0,1,520,0)\"/>\n",
       "<path style=\"fill:none;stroke-width:2;stroke-linecap:butt;stroke-linejoin:miter;stroke:rgb(70%,70%,70%);stroke-opacity:0.7;stroke-miterlimit:10;\" d=\"M 400 100 C 400.070312 99.453125 400.070312 99.453125 400 100 C 397.277344 99.945312 394.171875 99.945312 390.683594 100 C 378.945312 100.078125 367.050781 100.078125 355 100 C 343.101562 99.960938 331.207031 99.960938 319.316406 100 C 316.171875 100.394531 313.066406 100.394531 310 100 \" transform=\"matrix(-1,0,0,1,520,0)\"/>\n",
       "<path style=\"fill:none;stroke-width:2;stroke-linecap:butt;stroke-linejoin:miter;stroke:rgb(70%,70%,70%);stroke-opacity:0.7;stroke-miterlimit:10;\" d=\"M 310 100 C 309.613281 100.328125 309.613281 100.328125 310 100 C 309.9375 96.722656 309.9375 93.617188 310 90.683594 C 310.167969 78.972656 310.167969 67.078125 310 55 C 309.617188 43.226562 309.617188 31.332031 310 19.316406 C 310.296875 15.628906 310.296875 12.523438 310 10 \" transform=\"matrix(-1,0,0,1,520,0)\"/>\n",
       "<path style=\"fill:none;stroke-width:2;stroke-linecap:butt;stroke-linejoin:miter;stroke:rgb(70%,70%,70%);stroke-opacity:0.7;stroke-miterlimit:10;\" d=\"M 410 10 C 410.0625 10.03125 410.0625 10.03125 410 10 C 412.832031 10.027344 415.9375 10.027344 419.316406 10 C 431.214844 10.179688 443.109375 10.179688 455 10 C 467.117188 9.683594 479.011719 9.683594 490.683594 10 C 493.605469 10.121094 496.710938 10.121094 500 10 \" transform=\"matrix(-1,0,0,1,520,0)\"/>\n",
       "<path style=\"fill:none;stroke-width:2;stroke-linecap:butt;stroke-linejoin:miter;stroke:rgb(70%,70%,70%);stroke-opacity:0.7;stroke-miterlimit:10;\" d=\"M 500 10 C 500.066406 10.203125 500.066406 10.203125 500 10 C 499.738281 13.257812 499.738281 16.363281 500 19.316406 C 499.953125 31.054688 499.953125 42.949219 500 55 C 500.046875 66.765625 500.046875 78.660156 500 90.683594 C 500.253906 93.820312 500.253906 96.925781 500 100 \" transform=\"matrix(-1,0,0,1,520,0)\"/>\n",
       "<path style=\"fill:none;stroke-width:2;stroke-linecap:butt;stroke-linejoin:miter;stroke:rgb(70%,70%,70%);stroke-opacity:0.7;stroke-miterlimit:10;\" d=\"M 500 100 C 500.078125 99.820312 500.078125 99.820312 500 100 C 496.945312 100.050781 493.839844 100.050781 490.683594 100 C 478.480469 99.996094 466.585938 99.996094 455 100 C 443.25 100.332031 431.355469 100.332031 419.316406 100 C 416.492188 100.011719 413.386719 100.011719 410 100 \" transform=\"matrix(-1,0,0,1,520,0)\"/>\n",
       "<path style=\"fill:none;stroke-width:2;stroke-linecap:butt;stroke-linejoin:miter;stroke:rgb(70%,70%,70%);stroke-opacity:0.7;stroke-miterlimit:10;\" d=\"M 410 100 C 409.792969 100.113281 409.792969 100.113281 410 100 C 409.867188 96.761719 409.867188 93.65625 410 90.683594 C 410.226562 79.066406 410.226562 67.171875 410 55 C 410.027344 42.789062 410.027344 30.894531 410 19.316406 C 409.820312 16.496094 409.820312 13.390625 410 10 \" transform=\"matrix(-1,0,0,1,520,0)\"/>\n",
       "</g>\n",
       "</svg>"
      ],
      "text/plain": [
       "<IPython.core.display.SVG object>"
      ]
     },
     "execution_count": 3,
     "metadata": {},
     "output_type": "execute_result"
    }
   ],
   "source": [
    "IPython.display.SVG(data=display_image(natural_lines.demo, 600, 105).getvalue())"
   ]
  },
  {
   "cell_type": "code",
   "execution_count": null,
   "metadata": {},
   "outputs": [],
   "source": []
  },
  {
   "cell_type": "code",
   "execution_count": null,
   "metadata": {},
   "outputs": [],
   "source": []
  }
 ],
 "metadata": {
  "kernelspec": {
   "display_name": "Python 3",
   "language": "python",
   "name": "python3"
  },
  "language_info": {
   "codemirror_mode": {
    "name": "ipython",
    "version": 3
   },
   "file_extension": ".py",
   "mimetype": "text/x-python",
   "name": "python",
   "nbconvert_exporter": "python",
   "pygments_lexer": "ipython3",
   "version": "3.8.1"
  }
 },
 "nbformat": 4,
 "nbformat_minor": 4
}
