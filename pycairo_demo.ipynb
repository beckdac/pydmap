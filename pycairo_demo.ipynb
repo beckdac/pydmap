{
 "cells": [
  {
   "cell_type": "code",
   "execution_count": 1,
   "metadata": {},
   "outputs": [],
   "source": [
    "from io import BytesIO\n",
    "\n",
    "import cairo\n",
    "import IPython.display\n",
    "\n",
    "from pydmap import natural_lines, hatching"
   ]
  },
  {
   "cell_type": "code",
   "execution_count": 2,
   "metadata": {},
   "outputs": [],
   "source": [
    "def display_image(render_func, xsize, ysize):\n",
    "    svgio = BytesIO()\n",
    "    with cairo.SVGSurface(svgio, xsize, ysize) as surface:\n",
    "        context = cairo.Context(surface)\n",
    "        render_func(context)\n",
    "    return svgio"
   ]
  },
  {
   "cell_type": "code",
   "execution_count": 3,
   "metadata": {},
   "outputs": [
    {
     "data": {
      "image/svg+xml": [
       "<svg xmlns=\"http://www.w3.org/2000/svg\" xmlns:xlink=\"http://www.w3.org/1999/xlink\" width=\"600pt\" height=\"105pt\" viewBox=\"0 0 600 105\" version=\"1.1\">\n",
       "<g id=\"surface1\">\n",
       "<path style=\"fill:none;stroke-width:2;stroke-linecap:butt;stroke-linejoin:miter;stroke:rgb(0%,0%,0%);stroke-opacity:1;stroke-miterlimit:10;\" d=\"M 10 10 C 7.25 9.820312 7.25 9.820312 10 10 C 11.058594 12.878906 14.164062 12.878906 19.316406 10 C 31.429688 10.628906 43.324219 10.628906 55 10 C 65.792969 12.285156 77.6875 12.285156 90.683594 10 C 93.070312 11.011719 96.175781 11.011719 100 10 \" transform=\"matrix(-1,0,0,1,520,0)\"/>\n",
       "<path style=\"fill:none;stroke-width:2;stroke-linecap:butt;stroke-linejoin:miter;stroke:rgb(0%,0%,0%);stroke-opacity:1;stroke-miterlimit:10;\" d=\"M 100 10 C 98.066406 7.582031 98.066406 7.582031 100 10 C 99.765625 12.355469 99.765625 15.460938 100 19.316406 C 101.183594 32.367188 101.183594 44.261719 100 55 C 97.46875 69.503906 97.46875 81.398438 100 90.683594 C 97.285156 92.925781 97.285156 96.03125 100 100 \" transform=\"matrix(-1,0,0,1,520,0)\"/>\n",
       "<path style=\"fill:none;stroke-width:2;stroke-linecap:butt;stroke-linejoin:miter;stroke:rgb(0%,0%,0%);stroke-opacity:1;stroke-miterlimit:10;\" d=\"M 100 100 C 102.167969 96.847656 102.167969 96.847656 100 100 C 95.140625 97.753906 92.035156 97.753906 90.683594 100 C 76.726562 102.976562 64.832031 102.976562 55 100 C 45.839844 103.21875 33.945312 103.21875 19.316406 100 C 17.371094 97.292969 14.265625 97.292969 10 100 \" transform=\"matrix(-1,0,0,1,520,0)\"/>\n",
       "<path style=\"fill:none;stroke-width:2;stroke-linecap:butt;stroke-linejoin:miter;stroke:rgb(0%,0%,0%);stroke-opacity:1;stroke-miterlimit:10;\" d=\"M 10 100 C 9.078125 97.101562 9.078125 97.101562 10 100 C 11.414062 93.960938 11.414062 90.855469 10 90.683594 C 8.195312 78.238281 8.195312 66.34375 10 55 C 12.53125 44.484375 12.53125 32.589844 10 19.316406 C 9.515625 16.488281 9.515625 13.382812 10 10 \" transform=\"matrix(-1,0,0,1,520,0)\"/>\n",
       "<path style=\"fill:none;stroke-width:2;stroke-linecap:butt;stroke-linejoin:miter;stroke:rgb(0%,0%,0%);stroke-opacity:1;stroke-miterlimit:10;\" d=\"M 110 10 C 112.320312 10.515625 112.320312 10.515625 110 10 C 113.207031 8.03125 116.3125 8.03125 119.316406 10 C 130.167969 10.933594 142.0625 10.933594 155 10 C 167.398438 10.808594 179.292969 10.808594 190.683594 10 C 191.558594 11.691406 194.664062 11.691406 200 10 \" transform=\"matrix(-1,0,0,1,520,0)\"/>\n",
       "<path style=\"fill:none;stroke-width:2;stroke-linecap:butt;stroke-linejoin:miter;stroke:rgb(0%,0%,0%);stroke-opacity:1;stroke-miterlimit:10;\" d=\"M 200 10 C 198.589844 10.265625 198.589844 10.265625 200 10 C 201.304688 14.953125 201.304688 18.058594 200 19.316406 C 201.84375 29.734375 201.84375 41.628906 200 55 C 200.628906 65.746094 200.628906 77.640625 200 90.683594 C 198.871094 92.632812 198.871094 95.738281 200 100 \" transform=\"matrix(-1,0,0,1,520,0)\"/>\n",
       "<path style=\"fill:none;stroke-width:2;stroke-linecap:butt;stroke-linejoin:miter;stroke:rgb(0%,0%,0%);stroke-opacity:1;stroke-miterlimit:10;\" d=\"M 200 100 C 198.65625 100.964844 198.65625 100.964844 200 100 C 195.058594 102.167969 191.953125 102.167969 190.683594 100 C 176.800781 99.816406 164.90625 99.816406 155 100 C 145.035156 101.777344 133.140625 101.777344 119.316406 100 C 118.535156 98.597656 115.429688 98.597656 110 100 \" transform=\"matrix(-1,0,0,1,520,0)\"/>\n",
       "<path style=\"fill:none;stroke-width:2;stroke-linecap:butt;stroke-linejoin:miter;stroke:rgb(0%,0%,0%);stroke-opacity:1;stroke-miterlimit:10;\" d=\"M 110 100 C 111.136719 100.003906 111.136719 100.003906 110 100 C 109.957031 94.667969 109.957031 91.5625 110 90.683594 C 108.484375 78.207031 108.484375 66.3125 110 55 C 112.117188 40.90625 112.117188 29.011719 110 19.316406 C 108.222656 18.445312 108.222656 15.339844 110 10 \" transform=\"matrix(-1,0,0,1,520,0)\"/>\n",
       "<path style=\"fill:none;stroke-width:2;stroke-linecap:butt;stroke-linejoin:miter;stroke:rgb(0%,0%,0%);stroke-opacity:1;stroke-miterlimit:10;\" d=\"M 210 10 C 211.414062 10.441406 211.414062 10.441406 210 10 C 213.246094 10.097656 216.351562 10.097656 219.316406 10 C 229.585938 9.59375 241.480469 9.59375 255 10 C 265.289062 9.777344 277.183594 9.777344 290.683594 10 C 294.164062 10.710938 297.269531 10.710938 300 10 \" transform=\"matrix(-1,0,0,1,520,0)\"/>\n",
       "<path style=\"fill:none;stroke-width:2;stroke-linecap:butt;stroke-linejoin:miter;stroke:rgb(0%,0%,0%);stroke-opacity:1;stroke-miterlimit:10;\" d=\"M 300 10 C 301.664062 10.15625 301.664062 10.15625 300 10 C 300.414062 12.9375 300.414062 16.042969 300 19.316406 C 299.90625 31.820312 299.90625 43.714844 300 55 C 299.796875 65.402344 299.796875 77.296875 300 90.683594 C 298.414062 93.511719 298.414062 96.617188 300 100 \" transform=\"matrix(-1,0,0,1,520,0)\"/>\n",
       "<path style=\"fill:none;stroke-width:2;stroke-linecap:butt;stroke-linejoin:miter;stroke:rgb(0%,0%,0%);stroke-opacity:1;stroke-miterlimit:10;\" d=\"M 300 100 C 301.261719 100.21875 301.261719 100.21875 300 100 C 296.152344 100.421875 293.046875 100.421875 290.683594 100 C 279.90625 100.714844 268.011719 100.714844 255 100 C 244.746094 101.125 232.851562 101.125 219.316406 100 C 217.796875 100.785156 214.691406 100.785156 210 100 \" transform=\"matrix(-1,0,0,1,520,0)\"/>\n",
       "<path style=\"fill:none;stroke-width:2;stroke-linecap:butt;stroke-linejoin:miter;stroke:rgb(0%,0%,0%);stroke-opacity:1;stroke-miterlimit:10;\" d=\"M 210 100 C 209.011719 99.519531 209.011719 99.519531 210 100 C 210.203125 97.167969 210.203125 94.0625 210 90.683594 C 211.652344 80.070312 211.652344 68.175781 210 55 C 208.640625 42.261719 208.640625 30.367188 210 19.316406 C 209.132812 15.726562 209.132812 12.621094 210 10 \" transform=\"matrix(-1,0,0,1,520,0)\"/>\n",
       "<path style=\"fill:none;stroke-width:2;stroke-linecap:butt;stroke-linejoin:miter;stroke:rgb(0%,0%,0%);stroke-opacity:1;stroke-miterlimit:10;\" d=\"M 310 10 C 310.390625 9.996094 310.390625 9.996094 310 10 C 312.457031 10.066406 315.5625 10.066406 319.316406 10 C 331.292969 10.277344 343.1875 10.277344 355 10 C 366.402344 10.566406 378.296875 10.566406 390.683594 10 C 393.742188 10.652344 396.847656 10.652344 400 10 \" transform=\"matrix(-1,0,0,1,520,0)\"/>\n",
       "<path style=\"fill:none;stroke-width:2;stroke-linecap:butt;stroke-linejoin:miter;stroke:rgb(0%,0%,0%);stroke-opacity:1;stroke-miterlimit:10;\" d=\"M 400 10 C 400.40625 9.585938 400.40625 9.585938 400 10 C 399.367188 13.265625 399.367188 16.371094 400 19.316406 C 399.863281 31.757812 399.863281 43.652344 400 55 C 400.046875 67.101562 400.046875 78.996094 400 90.683594 C 400.332031 94.078125 400.332031 97.183594 400 100 \" transform=\"matrix(-1,0,0,1,520,0)\"/>\n",
       "<path style=\"fill:none;stroke-width:2;stroke-linecap:butt;stroke-linejoin:miter;stroke:rgb(0%,0%,0%);stroke-opacity:1;stroke-miterlimit:10;\" d=\"M 400 100 C 400.40625 100.644531 400.40625 100.644531 400 100 C 397.546875 100.085938 394.441406 100.085938 390.683594 100 C 379.25 100.640625 367.355469 100.640625 355 100 C 343.515625 99.4375 331.621094 99.4375 319.316406 100 C 316.457031 100.457031 313.351562 100.457031 310 100 \" transform=\"matrix(-1,0,0,1,520,0)\"/>\n",
       "<path style=\"fill:none;stroke-width:2;stroke-linecap:butt;stroke-linejoin:miter;stroke:rgb(0%,0%,0%);stroke-opacity:1;stroke-miterlimit:10;\" d=\"M 310 100 C 309.671875 99.398438 309.671875 99.398438 310 100 C 309.953125 97.460938 309.953125 94.355469 310 90.683594 C 309.550781 78.753906 309.550781 66.859375 310 55 C 310.507812 43.339844 310.507812 31.445312 310 19.316406 C 310.609375 16.847656 310.609375 13.742188 310 10 \" transform=\"matrix(-1,0,0,1,520,0)\"/>\n",
       "<path style=\"fill:none;stroke-width:2;stroke-linecap:butt;stroke-linejoin:miter;stroke:rgb(0%,0%,0%);stroke-opacity:1;stroke-miterlimit:10;\" d=\"M 410 10 C 409.699219 10.144531 409.699219 10.144531 410 10 C 412.804688 10.160156 415.910156 10.160156 419.316406 10 C 431.507812 9.875 443.402344 9.875 455 10 C 466.976562 10.109375 478.871094 10.109375 490.683594 10 C 493.652344 10.074219 496.757812 10.074219 500 10 \" transform=\"matrix(-1,0,0,1,520,0)\"/>\n",
       "<path style=\"fill:none;stroke-width:2;stroke-linecap:butt;stroke-linejoin:miter;stroke:rgb(0%,0%,0%);stroke-opacity:1;stroke-miterlimit:10;\" d=\"M 500 10 C 499.683594 10.265625 499.683594 10.265625 500 10 C 500.042969 12.859375 500.042969 15.964844 500 19.316406 C 499.953125 30.976562 499.953125 42.871094 500 55 C 500.210938 66.753906 500.210938 78.648438 500 90.683594 C 500.210938 93.945312 500.210938 97.050781 500 100 \" transform=\"matrix(-1,0,0,1,520,0)\"/>\n",
       "<path style=\"fill:none;stroke-width:2;stroke-linecap:butt;stroke-linejoin:miter;stroke:rgb(0%,0%,0%);stroke-opacity:1;stroke-miterlimit:10;\" d=\"M 500 100 C 499.796875 100.296875 499.796875 100.296875 500 100 C 496.78125 99.941406 493.675781 99.941406 490.683594 100 C 478.640625 100.144531 466.746094 100.144531 455 100 C 443.414062 100.027344 431.519531 100.027344 419.316406 100 C 416.28125 99.996094 413.175781 99.996094 410 100 \" transform=\"matrix(-1,0,0,1,520,0)\"/>\n",
       "<path style=\"fill:none;stroke-width:2;stroke-linecap:butt;stroke-linejoin:miter;stroke:rgb(0%,0%,0%);stroke-opacity:1;stroke-miterlimit:10;\" d=\"M 410 100 C 409.984375 99.769531 409.984375 99.769531 410 100 C 409.949219 97.226562 409.949219 94.121094 410 90.683594 C 409.996094 78.835938 409.996094 66.941406 410 55 C 409.816406 43.128906 409.816406 31.234375 410 19.316406 C 410.085938 16.351562 410.085938 13.246094 410 10 \" transform=\"matrix(-1,0,0,1,520,0)\"/>\n",
       "</g>\n",
       "</svg>"
      ],
      "text/plain": [
       "<IPython.core.display.SVG object>"
      ]
     },
     "execution_count": 3,
     "metadata": {},
     "output_type": "execute_result"
    }
   ],
   "source": [
    "IPython.display.SVG(data=display_image(natural_lines.demo, 600, 105).getvalue())"
   ]
  },
  {
   "cell_type": "code",
   "execution_count": 4,
   "metadata": {},
   "outputs": [
    {
     "name": "stdout",
     "output_type": "stream",
     "text": [
      "122.3816264507363, 92.77197510178415 -> 116.51121722167377, 186.9940673588035\n"
     ]
    },
    {
     "ename": "TypeError",
     "evalue": "line() got an unexpected keyword argument 'strength'",
     "output_type": "error",
     "traceback": [
      "\u001b[0;31m---------------------------------------------------------------------------\u001b[0m",
      "\u001b[0;31mTypeError\u001b[0m                                 Traceback (most recent call last)",
      "\u001b[0;32m<ipython-input-4-c2c1a804fbf7>\u001b[0m in \u001b[0;36m<module>\u001b[0;34m\u001b[0m\n\u001b[0;32m----> 1\u001b[0;31m \u001b[0mIPython\u001b[0m\u001b[0;34m.\u001b[0m\u001b[0mdisplay\u001b[0m\u001b[0;34m.\u001b[0m\u001b[0mSVG\u001b[0m\u001b[0;34m(\u001b[0m\u001b[0mdata\u001b[0m\u001b[0;34m=\u001b[0m\u001b[0mdisplay_image\u001b[0m\u001b[0;34m(\u001b[0m\u001b[0mhatching\u001b[0m\u001b[0;34m.\u001b[0m\u001b[0mdemo\u001b[0m\u001b[0;34m,\u001b[0m \u001b[0;36m400\u001b[0m\u001b[0;34m,\u001b[0m \u001b[0;36m400\u001b[0m\u001b[0;34m)\u001b[0m\u001b[0;34m.\u001b[0m\u001b[0mgetvalue\u001b[0m\u001b[0;34m(\u001b[0m\u001b[0;34m)\u001b[0m\u001b[0;34m)\u001b[0m\u001b[0;34m\u001b[0m\u001b[0;34m\u001b[0m\u001b[0m\n\u001b[0m",
      "\u001b[0;32m<ipython-input-2-e7de1f6f3797>\u001b[0m in \u001b[0;36mdisplay_image\u001b[0;34m(render_func, xsize, ysize)\u001b[0m\n\u001b[1;32m      3\u001b[0m     \u001b[0;32mwith\u001b[0m \u001b[0mcairo\u001b[0m\u001b[0;34m.\u001b[0m\u001b[0mSVGSurface\u001b[0m\u001b[0;34m(\u001b[0m\u001b[0msvgio\u001b[0m\u001b[0;34m,\u001b[0m \u001b[0mxsize\u001b[0m\u001b[0;34m,\u001b[0m \u001b[0mysize\u001b[0m\u001b[0;34m)\u001b[0m \u001b[0;32mas\u001b[0m \u001b[0msurface\u001b[0m\u001b[0;34m:\u001b[0m\u001b[0;34m\u001b[0m\u001b[0;34m\u001b[0m\u001b[0m\n\u001b[1;32m      4\u001b[0m         \u001b[0mcontext\u001b[0m \u001b[0;34m=\u001b[0m \u001b[0mcairo\u001b[0m\u001b[0;34m.\u001b[0m\u001b[0mContext\u001b[0m\u001b[0;34m(\u001b[0m\u001b[0msurface\u001b[0m\u001b[0;34m)\u001b[0m\u001b[0;34m\u001b[0m\u001b[0;34m\u001b[0m\u001b[0m\n\u001b[0;32m----> 5\u001b[0;31m         \u001b[0mrender_func\u001b[0m\u001b[0;34m(\u001b[0m\u001b[0mcontext\u001b[0m\u001b[0;34m)\u001b[0m\u001b[0;34m\u001b[0m\u001b[0;34m\u001b[0m\u001b[0m\n\u001b[0m\u001b[1;32m      6\u001b[0m     \u001b[0;32mreturn\u001b[0m \u001b[0msvgio\u001b[0m\u001b[0;34m\u001b[0m\u001b[0;34m\u001b[0m\u001b[0m\n",
      "\u001b[0;32m~/pydmap/pydmap/hatching.py\u001b[0m in \u001b[0;36mdemo\u001b[0;34m(ctx)\u001b[0m\n\u001b[1;32m     40\u001b[0m     \u001b[0mctx\u001b[0m\u001b[0;34m.\u001b[0m\u001b[0mset_source_rgba\u001b[0m\u001b[0;34m(\u001b[0m\u001b[0;36m0\u001b[0m\u001b[0;34m,\u001b[0m \u001b[0;36m0\u001b[0m\u001b[0;34m,\u001b[0m \u001b[0;36m0\u001b[0m\u001b[0;34m,\u001b[0m \u001b[0;36m1\u001b[0m\u001b[0;34m)\u001b[0m\u001b[0;34m\u001b[0m\u001b[0;34m\u001b[0m\u001b[0m\n\u001b[1;32m     41\u001b[0m     \u001b[0;31m#hatch_cell(ctx, 0, 0)\u001b[0m\u001b[0;34m\u001b[0m\u001b[0;34m\u001b[0m\u001b[0;34m\u001b[0m\u001b[0m\n\u001b[0;32m---> 42\u001b[0;31m     \u001b[0mhatch_cell\u001b[0m\u001b[0;34m(\u001b[0m\u001b[0mctx\u001b[0m\u001b[0;34m,\u001b[0m \u001b[0;36m1\u001b[0m\u001b[0;34m,\u001b[0m \u001b[0;36m1\u001b[0m\u001b[0;34m)\u001b[0m\u001b[0;34m\u001b[0m\u001b[0;34m\u001b[0m\u001b[0m\n\u001b[0m\u001b[1;32m     43\u001b[0m     \u001b[0;31m#hatch_cell(ctx, 1, 2)\u001b[0m\u001b[0;34m\u001b[0m\u001b[0;34m\u001b[0m\u001b[0;34m\u001b[0m\u001b[0m\n\u001b[1;32m     44\u001b[0m     \u001b[0;31m#hatch_cell(ctx, 2, 1)\u001b[0m\u001b[0;34m\u001b[0m\u001b[0;34m\u001b[0m\u001b[0;34m\u001b[0m\u001b[0m\n",
      "\u001b[0;32m~/pydmap/pydmap/hatching.py\u001b[0m in \u001b[0;36mhatch_cell\u001b[0;34m(ctx, xcell, ycell, strength, seed, print_points)\u001b[0m\n\u001b[1;32m     29\u001b[0m             \u001b[0mline\u001b[0m\u001b[0;34m(\u001b[0m\u001b[0mctx\u001b[0m\u001b[0;34m,\u001b[0m \u001b[0mxi1\u001b[0m\u001b[0;34m,\u001b[0m \u001b[0myi1\u001b[0m\u001b[0;34m,\u001b[0m \u001b[0mxi2\u001b[0m\u001b[0;34m,\u001b[0m \u001b[0myi2\u001b[0m\u001b[0;34m,\u001b[0m \u001b[0mstrength\u001b[0m\u001b[0;34m=\u001b[0m\u001b[0mstrength\u001b[0m\u001b[0;34m,\u001b[0m \u001b[0mprint_points\u001b[0m\u001b[0;34m=\u001b[0m\u001b[0mprint_points\u001b[0m\u001b[0;34m,\u001b[0m \u001b[0mseed\u001b[0m\u001b[0;34m=\u001b[0m\u001b[0mseed\u001b[0m\u001b[0;34m)\u001b[0m\u001b[0;34m\u001b[0m\u001b[0;34m\u001b[0m\u001b[0m\n\u001b[1;32m     30\u001b[0m         \u001b[0;32melse\u001b[0m\u001b[0;34m:\u001b[0m\u001b[0;34m\u001b[0m\u001b[0;34m\u001b[0m\u001b[0m\n\u001b[0;32m---> 31\u001b[0;31m             \u001b[0mline\u001b[0m\u001b[0;34m(\u001b[0m\u001b[0mctx\u001b[0m\u001b[0;34m,\u001b[0m \u001b[0mxi2\u001b[0m\u001b[0;34m,\u001b[0m \u001b[0myi2\u001b[0m\u001b[0;34m,\u001b[0m \u001b[0mxi1\u001b[0m\u001b[0;34m,\u001b[0m \u001b[0myi1\u001b[0m\u001b[0;34m,\u001b[0m \u001b[0mstrength\u001b[0m\u001b[0;34m=\u001b[0m\u001b[0mstrength\u001b[0m\u001b[0;34m,\u001b[0m \u001b[0mprint_points\u001b[0m\u001b[0;34m=\u001b[0m\u001b[0mprint_points\u001b[0m\u001b[0;34m,\u001b[0m \u001b[0mseed\u001b[0m\u001b[0;34m=\u001b[0m\u001b[0mseed\u001b[0m\u001b[0;34m)\u001b[0m\u001b[0;34m\u001b[0m\u001b[0;34m\u001b[0m\u001b[0m\n\u001b[0m\u001b[1;32m     32\u001b[0m \u001b[0;34m\u001b[0m\u001b[0m\n\u001b[1;32m     33\u001b[0m     \u001b[0;31m#ctx.rotate(xcell * 180. + ycell * 90.)\u001b[0m\u001b[0;34m\u001b[0m\u001b[0;34m\u001b[0m\u001b[0;34m\u001b[0m\u001b[0m\n",
      "\u001b[0;31mTypeError\u001b[0m: line() got an unexpected keyword argument 'strength'"
     ]
    }
   ],
   "source": [
    "IPython.display.SVG(data=display_image(hatching.demo, 400, 400).getvalue())"
   ]
  },
  {
   "cell_type": "code",
   "execution_count": null,
   "metadata": {},
   "outputs": [],
   "source": []
  },
  {
   "cell_type": "code",
   "execution_count": null,
   "metadata": {},
   "outputs": [],
   "source": []
  }
 ],
 "metadata": {
  "kernelspec": {
   "display_name": "Python 3",
   "language": "python",
   "name": "python3"
  },
  "language_info": {
   "codemirror_mode": {
    "name": "ipython",
    "version": 3
   },
   "file_extension": ".py",
   "mimetype": "text/x-python",
   "name": "python",
   "nbconvert_exporter": "python",
   "pygments_lexer": "ipython3",
   "version": "3.8.1"
  }
 },
 "nbformat": 4,
 "nbformat_minor": 4
}
